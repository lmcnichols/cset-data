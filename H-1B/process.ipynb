{
 "cells": [
  {
   "cell_type": "code",
   "execution_count": 1,
   "id": "entire-journalist",
   "metadata": {},
   "outputs": [],
   "source": [
    "import pandas as pd"
   ]
  },
  {
   "cell_type": "code",
   "execution_count": 2,
   "id": "another-pharmacology",
   "metadata": {},
   "outputs": [],
   "source": [
    "df = pd.concat(\n",
    "    [\n",
    "        pd.read_csv(\n",
    "            f\"../data/H-1B/h1b-{year}.csv\",\n",
    "            dtype={\"Initial Approvals\": \"object\"},\n",
    "            usecols=[\"Initial Approvals\", \"Fiscal Year\", \"Employer\"],\n",
    "        )\n",
    "        for year in range(2009, 2021)\n",
    "    ]\n",
    ").set_index(\"Employer\")"
   ]
  },
  {
   "cell_type": "code",
   "execution_count": 3,
   "id": "treated-signal",
   "metadata": {},
   "outputs": [],
   "source": [
    "df = df.loc[\n",
    "    df.index.str.contains(\n",
    "        \"AMAZON|MICROSOFT|^APPLE|GOOGLE|FACEBOOK\", regex=True, na=False\n",
    "    ),\n",
    "].rename(columns={\"Initial Approvals\": \"quant\", \"Fiscal Year\": \"date\"})"
   ]
  },
  {
   "cell_type": "code",
   "execution_count": 4,
   "id": "divine-dallas",
   "metadata": {},
   "outputs": [],
   "source": [
    "df[\"quant\"] = df[\"quant\"].str.replace(\",\", \"\").astype(\"int64\")"
   ]
  },
  {
   "cell_type": "code",
   "execution_count": 5,
   "id": "clear-berlin",
   "metadata": {},
   "outputs": [],
   "source": [
    "values = df.groupby(\"date\").sum()"
   ]
  },
  {
   "cell_type": "code",
   "execution_count": 6,
   "id": "treated-remainder",
   "metadata": {},
   "outputs": [],
   "source": [
    "df = df.reset_index()\n",
    "df.loc[df[\"Employer\"].str.contains(\"AMAZON\", regex=True), \"Employer\"] = \"AMAZON\"\n",
    "df.loc[df[\"Employer\"].str.contains(\"MICROSOFT\", regex=True), \"Employer\"] = \"MICROSOFT\"\n",
    "df.loc[df[\"Employer\"].str.contains(\"^APPLE\", regex=True), \"Employer\"] = \"APPLE\"\n",
    "df.loc[df[\"Employer\"].str.contains(\"FACEBOOK\", regex=True), \"Employer\"] = \"FACEBOOK\"\n",
    "df.loc[df[\"Employer\"].str.contains(\"GOOGLE\", regex=True), \"Employer\"] = \"GOOGLE\"\n",
    "df = df.set_index(\"Employer\")"
   ]
  },
  {
   "cell_type": "code",
   "execution_count": null,
   "id": "backed-counter",
   "metadata": {},
   "outputs": [],
   "source": []
  },
  {
   "cell_type": "code",
   "execution_count": 7,
   "id": "understood-bride",
   "metadata": {},
   "outputs": [],
   "source": [
    "df = df.set_index(\"date\", append=True).groupby([\"Employer\",\"date\"]).sum()"
   ]
  },
  {
   "cell_type": "code",
   "execution_count": 8,
   "id": "damaged-questionnaire",
   "metadata": {},
   "outputs": [
    {
     "data": {
      "text/html": [
       "<div>\n",
       "<style scoped>\n",
       "    .dataframe tbody tr th:only-of-type {\n",
       "        vertical-align: middle;\n",
       "    }\n",
       "\n",
       "    .dataframe tbody tr th {\n",
       "        vertical-align: top;\n",
       "    }\n",
       "\n",
       "    .dataframe thead th {\n",
       "        text-align: right;\n",
       "    }\n",
       "</style>\n",
       "<table border=\"1\" class=\"dataframe\">\n",
       "  <thead>\n",
       "    <tr style=\"text-align: right;\">\n",
       "      <th></th>\n",
       "      <th>quant</th>\n",
       "    </tr>\n",
       "    <tr>\n",
       "      <th>date</th>\n",
       "      <th></th>\n",
       "    </tr>\n",
       "  </thead>\n",
       "  <tbody>\n",
       "    <tr>\n",
       "      <th>2009</th>\n",
       "      <td>0</td>\n",
       "    </tr>\n",
       "    <tr>\n",
       "      <th>2010</th>\n",
       "      <td>0</td>\n",
       "    </tr>\n",
       "    <tr>\n",
       "      <th>2011</th>\n",
       "      <td>0</td>\n",
       "    </tr>\n",
       "    <tr>\n",
       "      <th>2012</th>\n",
       "      <td>0</td>\n",
       "    </tr>\n",
       "    <tr>\n",
       "      <th>2013</th>\n",
       "      <td>0</td>\n",
       "    </tr>\n",
       "    <tr>\n",
       "      <th>2014</th>\n",
       "      <td>0</td>\n",
       "    </tr>\n",
       "    <tr>\n",
       "      <th>2015</th>\n",
       "      <td>0</td>\n",
       "    </tr>\n",
       "    <tr>\n",
       "      <th>2016</th>\n",
       "      <td>0</td>\n",
       "    </tr>\n",
       "    <tr>\n",
       "      <th>2017</th>\n",
       "      <td>-1</td>\n",
       "    </tr>\n",
       "    <tr>\n",
       "      <th>2018</th>\n",
       "      <td>0</td>\n",
       "    </tr>\n",
       "    <tr>\n",
       "      <th>2019</th>\n",
       "      <td>-1</td>\n",
       "    </tr>\n",
       "    <tr>\n",
       "      <th>2020</th>\n",
       "      <td>0</td>\n",
       "    </tr>\n",
       "  </tbody>\n",
       "</table>\n",
       "</div>"
      ],
      "text/plain": [
       "      quant\n",
       "date       \n",
       "2009      0\n",
       "2010      0\n",
       "2011      0\n",
       "2012      0\n",
       "2013      0\n",
       "2014      0\n",
       "2015      0\n",
       "2016      0\n",
       "2017     -1\n",
       "2018      0\n",
       "2019     -1\n",
       "2020      0"
      ]
     },
     "execution_count": 8,
     "metadata": {},
     "output_type": "execute_result"
    }
   ],
   "source": [
    "pd.read_csv(\"../data/H-1B/cset_data.csv\", index_col=\"date\") - values"
   ]
  },
  {
   "cell_type": "code",
   "execution_count": 9,
   "id": "impressive-richards",
   "metadata": {},
   "outputs": [],
   "source": [
    "df.to_csv(\"../data/H-1B/processed.csv\")"
   ]
  }
 ],
 "metadata": {
  "kernelspec": {
   "display_name": "Python 3",
   "language": "python",
   "name": "python3"
  },
  "language_info": {
   "codemirror_mode": {
    "name": "ipython",
    "version": 3
   },
   "file_extension": ".py",
   "mimetype": "text/x-python",
   "name": "python",
   "nbconvert_exporter": "python",
   "pygments_lexer": "ipython3",
   "version": "3.9.2"
  }
 },
 "nbformat": 4,
 "nbformat_minor": 5
}
