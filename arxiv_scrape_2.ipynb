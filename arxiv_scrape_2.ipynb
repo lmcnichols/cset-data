{
 "cells": [
  {
   "cell_type": "code",
   "execution_count": 1,
   "metadata": {},
   "outputs": [],
   "source": [
    "import arxivscraper\n",
    "import re\n",
    "from datetime import datetime, date\n",
    "import matplotlib.pyplot as plt\n",
    "import matplotlib.dates as mdates"
   ]
  },
  {
   "cell_type": "code",
   "execution_count": 2,
   "metadata": {},
   "outputs": [],
   "source": [
    "\n",
    "Q1 = {\n",
    "    'start': date(day=1, month=1, year=2020),\n",
    "    'end': date(day=31, month=3, year=2020)\n",
    "}\n",
    "Q2 = {\n",
    "    'start': date(day=1, month=4, year=2020),\n",
    "    'end': date(day=30, month=6, year=2020)\n",
    "}\n",
    "Q3 = {\n",
    "    'start': date(day=1, month=7, year=2020),\n",
    "    'end': date(day=30, month=9, year=2020)\n",
    "}"
   ]
  },
  {
   "cell_type": "code",
   "execution_count": 3,
   "metadata": {},
   "outputs": [],
   "source": [
    "q1_papers = dict()\n",
    "q2_papers = dict()\n",
    "q3_papers = dict()"
   ]
  },
  {
   "cell_type": "code",
   "execution_count": 4,
   "metadata": {},
   "outputs": [],
   "source": [
    "scraper = arxivscraper.Scraper(category='cs', date_from='2020-01-01',date_until='2020-03-31', filters={'categories':['cs.ai', 'cs.cv', 'cs.cl', 'cs.lg', 'cs.ro']})\n"
   ]
  },
  {
   "cell_type": "code",
   "execution_count": 5,
   "metadata": {},
   "outputs": [
    {
     "name": "stdout",
     "output_type": "stream",
     "text": [
      "fetching up to  1000 records...\n",
      "fetching up to  2000 records...\n",
      "fetching up to  3000 records...\n",
      "fetching up to  4000 records...\n",
      "fetching up to  5000 records...\n",
      "fetching up to  6000 records...\n",
      "fetching up to  7000 records...\n",
      "fetching up to  8000 records...\n",
      "fetching up to  9000 records...\n",
      "fetching up to  10000 records...\n",
      "fetching up to  11000 records...\n",
      "fetching up to  12000 records...\n",
      "fetching up to  13000 records...\n",
      "fetching up to  14000 records...\n",
      "fetching up to  15000 records...\n",
      "fetching up to  16000 records...\n",
      "fetching up to  17000 records...\n",
      "fetching up to  18000 records...\n",
      "fetching is completed in 181.2 seconds.\n",
      "Total number of records 10456\n"
     ]
    }
   ],
   "source": [
    "output = scraper.scrape()"
   ]
  },
  {
   "cell_type": "code",
   "execution_count": 6,
   "metadata": {},
   "outputs": [],
   "source": [
    "scraper = arxivscraper.Scraper(category='cs', date_from='2020-04-01',date_until='2020-06-30', filters={'categories':['cs.ai', 'cs.cv', 'cs.cl', 'cs.lg', 'cs.ro']})\n"
   ]
  },
  {
   "cell_type": "code",
   "execution_count": 7,
   "metadata": {},
   "outputs": [
    {
     "name": "stdout",
     "output_type": "stream",
     "text": [
      "fetching up to  1000 records...\n",
      "fetching up to  2000 records...\n",
      "fetching up to  3000 records...\n",
      "fetching up to  4000 records...\n",
      "fetching up to  5000 records...\n",
      "fetching up to  6000 records...\n",
      "fetching up to  7000 records...\n",
      "fetching up to  8000 records...\n",
      "fetching up to  9000 records...\n",
      "fetching up to  10000 records...\n",
      "fetching up to  11000 records...\n",
      "fetching up to  12000 records...\n",
      "fetching up to  13000 records...\n",
      "fetching up to  14000 records...\n",
      "fetching up to  15000 records...\n",
      "fetching up to  16000 records...\n",
      "fetching up to  17000 records...\n",
      "fetching up to  18000 records...\n",
      "fetching up to  19000 records...\n",
      "fetching up to  20000 records...\n",
      "fetching up to  21000 records...\n",
      "fetching up to  22000 records...\n",
      "fetching up to  23000 records...\n",
      "fetching up to  24000 records...\n",
      "fetching up to  25000 records...\n",
      "fetching is completed in 248.2 seconds.\n",
      "Total number of records 14721\n"
     ]
    }
   ],
   "source": [
    "output += scraper.scrape()"
   ]
  },
  {
   "cell_type": "code",
   "execution_count": 8,
   "metadata": {},
   "outputs": [],
   "source": [
    "scraper = arxivscraper.Scraper(category='cs', date_from='2020-07-01',date_until='2020-09-30', filters={'categories':['cs.ai', 'cs.cv', 'cs.cl', 'cs.lg', 'cs.ro']})\n"
   ]
  },
  {
   "cell_type": "code",
   "execution_count": 9,
   "metadata": {},
   "outputs": [
    {
     "name": "stdout",
     "output_type": "stream",
     "text": [
      "fetching up to  1000 records...\n",
      "Got 503. Retrying after 30 seconds.\n",
      "fetching up to  1000 records...\n",
      "fetching up to  2000 records...\n",
      "fetching up to  3000 records...\n",
      "fetching up to  4000 records...\n",
      "fetching up to  5000 records...\n",
      "fetching up to  6000 records...\n",
      "fetching up to  7000 records...\n",
      "fetching up to  8000 records...\n",
      "fetching up to  9000 records...\n",
      "fetching up to  10000 records...\n",
      "fetching up to  11000 records...\n",
      "fetching up to  12000 records...\n",
      "fetching up to  13000 records...\n",
      "fetching up to  14000 records...\n",
      "fetching up to  15000 records...\n",
      "fetching up to  16000 records...\n",
      "fetching up to  17000 records...\n",
      "fetching up to  18000 records...\n",
      "fetching up to  19000 records...\n",
      "fetching up to  20000 records...\n",
      "fetching is completed in 226.3 seconds.\n",
      "Total number of records 11877\n"
     ]
    }
   ],
   "source": [
    "output += scraper.scrape()"
   ]
  },
  {
   "cell_type": "code",
   "execution_count": 10,
   "metadata": {},
   "outputs": [],
   "source": [
    "for item in output:\n",
    "    # Parse out the date.\n",
    "    raw_date = item['created']\n",
    "    date_match = re.search('\\D*(\\d+-\\d+-\\d+).*', raw_date)\n",
    "    clean_date = date_match.group(1)\n",
    "    date_obj = datetime.strptime(clean_date, '%Y-%m-%d').date()\n",
    "    \n",
    "    # Ignore dates before 2020\n",
    "    if date_obj < date(year=2020, month=1, day=1):\n",
    "        continue\n",
    "\n",
    "    # See which quarter we are in.\n",
    "    if Q1['start'] <= date_obj <= Q1['end']:\n",
    "        q1_papers[item['id']] = date_obj\n",
    "    elif Q2['start'] <= date_obj <= Q2['end']:\n",
    "        q2_papers[item['id']] = date_obj\n",
    "    elif Q3['start'] <= date_obj <= Q3['end']:\n",
    "        q3_papers[item['id']] = date_obj\n",
    "    else:\n",
    "        continue\n"
   ]
  },
  {
   "cell_type": "markdown",
   "metadata": {
    "presto": {
     "id": "04d0b9ad-f05e-4b58-8364-5d7e938b36b4"
    }
   },
   "source": [
    "<h3 style=\"text-align:center;font:cambria\">Q1</h3>"
   ]
  },
  {
   "cell_type": "markdown",
   "metadata": {
    "presto": {
     "id": "2f239e08-f882-44e9-a5be-c2f8394a3b03"
    }
   },
   "source": [
    "<h3 style=\"text-align:center;font:cambria\">Q1</h3>"
   ]
  },
  {
   "cell_type": "code",
   "execution_count": 16,
   "metadata": {
    "presto": {
     "id": "42e257c6-2090-4dcb-9518-ecbf81e894e4"
    }
   },
   "outputs": [
    {
     "data": {
      "image/png": "[encoded data removed]",
      "text/plain": [
       "<Figure size 432x288 with 1 Axes>"
      ]
     },
     "metadata": {
      "needs_background": "light"
     },
     "output_type": "display_data"
    }
   ],
   "source": [
    "fig, ax = plt.subplots()\n",
    "ax.hist(q1_papers.values(), bins=25, color='#ff7433')\n",
    "\n",
    "# rotate and align the tick labels so they look better\n",
    "fig.autofmt_xdate()\n",
    "ax.fmt_xdata = mdates.DateFormatter('%Y-%m-%d')"
   ]
  },
  {
   "cell_type": "code",
   "execution_count": 21,
   "metadata": {},
   "outputs": [
    {
     "data": {
      "text/plain": [
       "9035"
      ]
     },
     "execution_count": 21,
     "metadata": {},
     "output_type": "execute_result"
    }
   ],
   "source": [
    "len(q1_papers.values())"
   ]
  },
  {
   "cell_type": "code",
   "execution_count": 22,
   "metadata": {},
   "outputs": [
    {
     "data": {
      "text/plain": [
       "11776"
      ]
     },
     "execution_count": 22,
     "metadata": {},
     "output_type": "execute_result"
    }
   ],
   "source": [
    "len(q2_papers.values())"
   ]
  },
  {
   "cell_type": "code",
   "execution_count": 23,
   "metadata": {},
   "outputs": [
    {
     "data": {
      "text/plain": [
       "7598"
      ]
     },
     "execution_count": 23,
     "metadata": {},
     "output_type": "execute_result"
    }
   ],
   "source": [
    "len(q3_papers.values())"
   ]
  },
  {
   "cell_type": "markdown",
   "metadata": {
    "presto": {
     "id": "cf301665-9f69-4080-bc7f-6387107c178e"
    }
   },
   "source": [
    "<h3 style=\"text-align:center;font:cambria\">Q2</h3>"
   ]
  },
  {
   "cell_type": "code",
   "execution_count": 18,
   "metadata": {
    "presto": {
     "id": "427015f6-fda9-41f7-a4e6-f7091c5fe566"
    }
   },
   "outputs": [
    {
     "data": {
      "image/png": "[encoded data removed]",
      "text/plain": [
       "<Figure size 432x288 with 1 Axes>"
      ]
     },
     "metadata": {
      "needs_background": "light"
     },
     "output_type": "display_data"
    }
   ],
   "source": [
    "fig, ax = plt.subplots()\n",
    "ax.hist(q2_papers.values(), bins=25, color='#990909')\n",
    "\n",
    "# rotate and align the tick labels so they look better\n",
    "fig.autofmt_xdate()\n",
    "ax.fmt_xdata = mdates.DateFormatter('%Y-%m-%d')"
   ]
  },
  {
   "cell_type": "markdown",
   "metadata": {
    "presto": {
     "id": "63ae2d1e-a9a5-4395-86a0-2634bb9ee114"
    }
   },
   "source": [
    "<h3 style=\"text-align:center;font:cambria\">Q3 up to 9/4</h3>"
   ]
  },
  {
   "cell_type": "code",
   "execution_count": 19,
   "metadata": {
    "presto": {
     "id": "3be452b7-c33b-419d-886d-5cce726fa8c8"
    }
   },
   "outputs": [
    {
     "data": {
      "image/png": "[encoded data removed]",
      "text/plain": [
       "<Figure size 432x288 with 1 Axes>"
      ]
     },
     "metadata": {
      "needs_background": "light"
     },
     "output_type": "display_data"
    }
   ],
   "source": [
    "fig, ax = plt.subplots()\n",
    "ax.hist(q3_papers.values(), bins=25, color='#670669')\n",
    "\n",
    "# rotate and align the tick labels so they look better\n",
    "fig.autofmt_xdate()\n",
    "ax.fmt_xdata = mdates.DateFormatter('%Y-%m-%d')"
   ]
  },
  {
   "cell_type": "markdown",
   "metadata": {
    "presto": {
     "id": "1c258e1e-7e97-4050-91a4-61ec6efdf1ed"
    }
   },
   "source": [
    "<h1 style=\"text-align:center;font:cambria\">2020 by quarter</h1>"
   ]
  },
  {
   "cell_type": "markdown",
   "metadata": {
    "presto": {
     "id": "40b29738-2e31-4676-89df-415c65cea514"
    }
   },
   "source": [
    "<h4 style=\"text-align:center;font:cambria\">Summary of results.</h4>\n",
    "<table>\n",
    "    <tr><th></th><th>Q1</th><th>Q2</th><th>Q3</th></tr>\n",
    "    <tr><th>My value</th><td>9035</td><td>11776</td><td>7598</td></tr>\n",
    "    <tr><th>CSET Value</th><td>9204</td><td>11979</td><td>N/A</td></tr>\n",
    "    <tr><th>Error</th><td>-169</td><td>-203</td><td>N/A</td></tr>\n",
    "    <tr><th>% Error</th><td>-1.84%</td><td>-1.69%</td><td>N/A</td></tr>"
   ]
  },
  {
   "cell_type": "code",
   "execution_count": 29,
   "metadata": {},
   "outputs": [
    {
     "data": {
      "text/plain": [
       "-0.018361581920903956"
      ]
     },
     "execution_count": 29,
     "metadata": {},
     "output_type": "execute_result"
    }
   ],
   "source": [
    "(9035 - 9204) / 9204"
   ]
  },
  {
   "cell_type": "code",
   "execution_count": 30,
   "metadata": {},
   "outputs": [
    {
     "data": {
      "text/plain": [
       "-0.016946322731446698"
      ]
     },
     "execution_count": 30,
     "metadata": {},
     "output_type": "execute_result"
    }
   ],
   "source": [
    "(11776 - 11979) / 11979"
   ]
  },
  {
   "cell_type": "markdown",
   "metadata": {},
   "source": []
  }
 ],
 "metadata": {
  "kernelspec": {
   "display_name": "Python 3",
   "language": "python",
   "name": "python3"
  },
  "language_info": {
   "codemirror_mode": {
    "name": "ipython",
    "version": 3
   },
   "file_extension": ".py",
   "mimetype": "text/x-python",
   "name": "python",
   "nbconvert_exporter": "python",
   "pygments_lexer": "ipython3",
   "version": "3.8.5"
  },
  "presto": {
   "id": "0f7fd781-8b3f-433b-b641-2a56b350ad5a"
  }
 },
 "nbformat": 4,
 "nbformat_minor": 4
}
