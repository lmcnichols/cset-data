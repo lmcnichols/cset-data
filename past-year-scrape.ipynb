{
 "cells": [
  {
   "cell_type": "code",
   "execution_count": 1,
   "metadata": {},
   "outputs": [],
   "source": [
    "import arxivscraper\n",
    "import re\n",
    "from datetime import datetime, date\n",
    "import matplotlib.pyplot as plt\n",
    "import matplotlib.dates as mdates"
   ]
  },
  {
   "cell_type": "markdown",
   "metadata": {
    "presto": {
     "id": "b5e4fb11-d8ec-4fcd-af54-88f65ac56724"
    }
   },
   "source": [
    "<h1 style=\"text-align:center;font:cambria\">Past Q3s</h1>"
   ]
  },
  {
   "cell_type": "markdown",
   "metadata": {
    "presto": {
     "id": "04d0b9ad-f05e-4b58-8364-5d7e938b36b4"
    }
   },
   "source": [
    "<h3 style=\"text-align:center;font:cambria\">2017</h3>"
   ]
  },
  {
   "cell_type": "code",
   "execution_count": 2,
   "metadata": {},
   "outputs": [],
   "source": [
    "scraper = arxivscraper.Scraper(category='cs', date_from='2017-06-01',date_until='2017-09-30', filters={'categories':['cs.ai', 'cs.cv', 'cs.cl', 'cs.lg', 'cs.ro']})"
   ]
  },
  {
   "cell_type": "code",
   "execution_count": 3,
   "metadata": {},
   "outputs": [
    {
     "name": "stdout",
     "output_type": "stream",
     "text": [
      "fetching up to  1000 records...\n",
      "fetching up to  2000 records...\n",
      "fetching up to  3000 records...\n",
      "fetching up to  4000 records...\n",
      "fetching up to  5000 records...\n",
      "fetching up to  6000 records...\n",
      "fetching up to  7000 records...\n",
      "fetching up to  8000 records...\n",
      "fetching up to  9000 records...\n",
      "fetching up to  10000 records...\n",
      "fetching is completed in 117.1 seconds.\n",
      "Total number of records 4664\n"
     ]
    }
   ],
   "source": [
    "output = scraper.scrape()"
   ]
  },
  {
   "cell_type": "code",
   "execution_count": 4,
   "metadata": {},
   "outputs": [],
   "source": [
    "date_list = []\n",
    "for item in output:\n",
    "    # Parse out the date.\n",
    "    raw_date = item['created']\n",
    "    date_match = re.search('\\D*(\\d+-\\d+-\\d+).*', raw_date)\n",
    "    clean_date = date_match.group(1)\n",
    "    date_obj = datetime.strptime(clean_date, '%Y-%m-%d').date()\n",
    "    \n",
    "    # Bound the dates to the quarter.\n",
    "    if date_obj < date(year=2017, month=6, day=1):\n",
    "        continue\n",
    "    if date_obj > date(year=2017, month=9, day=30):\n",
    "        continue\n",
    "        \n",
    "    # Add the date to the date list.\n",
    "    date_list.append(date_obj)\n"
   ]
  },
  {
   "cell_type": "code",
   "execution_count": 5,
   "metadata": {
    "presto": {
     "id": "62563cf5-3307-4425-a223-17b7f1562ea9"
    }
   },
   "outputs": [
    {
     "data": {
      "image/png": "[encoded data removed]",
      "text/plain": [
       "<Figure size 432x288 with 1 Axes>"
      ]
     },
     "metadata": {
      "needs_background": "light"
     },
     "output_type": "display_data"
    }
   ],
   "source": [
    "fig, ax = plt.subplots()\n",
    "ax.hist(date_list, bins=25, color='#ff7433')\n",
    "\n",
    "# rotate and align the tick labels so they look better\n",
    "fig.autofmt_xdate()\n",
    "ax.fmt_xdata = mdates.DateFormatter('%Y-%m-%d')"
   ]
  },
  {
   "cell_type": "markdown",
   "metadata": {
    "presto": {
     "id": "74bb3896-7dd7-457b-9ab5-1e683dfbff5e"
    }
   },
   "source": [
    "<h3 style=\"text-align:center;font:cambria\">2018</h3>"
   ]
  },
  {
   "cell_type": "code",
   "execution_count": 6,
   "metadata": {},
   "outputs": [],
   "source": [
    "scraper = arxivscraper.Scraper(category='cs', date_from='2018-06-01',date_until='2018-09-30', filters={'categories':['cs.ai', 'cs.cv', 'cs.cl', 'cs.lg', 'cs.ro']})"
   ]
  },
  {
   "cell_type": "code",
   "execution_count": 7,
   "metadata": {},
   "outputs": [
    {
     "name": "stdout",
     "output_type": "stream",
     "text": [
      "fetching up to  1000 records...\n",
      "fetching up to  2000 records...\n",
      "fetching up to  3000 records...\n",
      "fetching up to  4000 records...\n",
      "fetching up to  5000 records...\n",
      "fetching up to  6000 records...\n",
      "fetching up to  7000 records...\n",
      "fetching up to  8000 records...\n",
      "fetching up to  9000 records...\n",
      "fetching up to  10000 records...\n",
      "fetching up to  11000 records...\n",
      "fetching up to  12000 records...\n",
      "fetching up to  13000 records...\n",
      "fetching up to  14000 records...\n",
      "fetching is completed in 160.6 seconds.\n",
      "Total number of records 7152\n"
     ]
    }
   ],
   "source": [
    "output = scraper.scrape()"
   ]
  },
  {
   "cell_type": "code",
   "execution_count": 8,
   "metadata": {},
   "outputs": [],
   "source": [
    "date_list = []\n",
    "for item in output:\n",
    "    # Parse out the date.\n",
    "    raw_date = item['created']\n",
    "    date_match = re.search('\\D*(\\d+-\\d+-\\d+).*', raw_date)\n",
    "    clean_date = date_match.group(1)\n",
    "    date_obj = datetime.strptime(clean_date, '%Y-%m-%d').date()\n",
    "    \n",
    "    # Bound the dates to the quarter.\n",
    "    if date_obj < date(year=2018, month=6, day=1):\n",
    "        continue\n",
    "    if date_obj > date(year=2018, month=9, day=30):\n",
    "        continue\n",
    "        \n",
    "    # Add the date to the date list.\n",
    "    date_list.append(date_obj)\n"
   ]
  },
  {
   "cell_type": "code",
   "execution_count": 9,
   "metadata": {
    "presto": {
     "id": "eefda414-44dc-460c-99eb-12d8d11e18a3"
    }
   },
   "outputs": [
    {
     "data": {
      "image/png": "[encoded data removed]",
      "text/plain": [
       "<Figure size 432x288 with 1 Axes>"
      ]
     },
     "metadata": {
      "needs_background": "light"
     },
     "output_type": "display_data"
    }
   ],
   "source": [
    "fig, ax = plt.subplots()\n",
    "ax.hist(date_list, bins=25, color='#8af252')\n",
    "\n",
    "# rotate and align the tick labels so they look better\n",
    "fig.autofmt_xdate()\n",
    "ax.fmt_xdata = mdates.DateFormatter('%Y-%m-%d')"
   ]
  },
  {
   "cell_type": "markdown",
   "metadata": {},
   "source": [
    "<h3 style=\"text-align:center;font:cambria\">2019</h3>"
   ]
  },
  {
   "cell_type": "code",
   "execution_count": 10,
   "metadata": {},
   "outputs": [],
   "source": [
    "scraper = arxivscraper.Scraper(category='cs', date_from='2019-06-01',date_until='2019-09-30', filters={'categories':['cs.ai', 'cs.cv', 'cs.cl', 'cs.lg', 'cs.ro']})"
   ]
  },
  {
   "cell_type": "code",
   "execution_count": 11,
   "metadata": {},
   "outputs": [
    {
     "name": "stdout",
     "output_type": "stream",
     "text": [
      "fetching up to  1000 records...\n",
      "Got 503. Retrying after 30 seconds.\n",
      "fetching up to  1000 records...\n",
      "fetching up to  2000 records...\n",
      "fetching up to  3000 records...\n",
      "fetching up to  4000 records...\n",
      "fetching up to  5000 records...\n",
      "fetching up to  6000 records...\n",
      "fetching up to  7000 records...\n",
      "fetching up to  8000 records...\n",
      "fetching up to  9000 records...\n",
      "fetching up to  10000 records...\n",
      "fetching up to  11000 records...\n",
      "fetching up to  12000 records...\n",
      "fetching up to  13000 records...\n",
      "fetching up to  14000 records...\n",
      "fetching up to  15000 records...\n",
      "fetching up to  16000 records...\n",
      "fetching up to  17000 records...\n",
      "fetching up to  18000 records...\n",
      "fetching up to  19000 records...\n",
      "fetching up to  20000 records...\n",
      "fetching is completed in 269.9 seconds.\n",
      "Total number of records 11508\n"
     ]
    }
   ],
   "source": [
    "output = scraper.scrape()"
   ]
  },
  {
   "cell_type": "code",
   "execution_count": 12,
   "metadata": {},
   "outputs": [],
   "source": [
    "date_list = []\n",
    "for item in output:\n",
    "    # Parse out the date.\n",
    "    raw_date = item['created']\n",
    "    date_match = re.search('\\D*(\\d+-\\d+-\\d+).*', raw_date)\n",
    "    clean_date = date_match.group(1)\n",
    "    date_obj = datetime.strptime(clean_date, '%Y-%m-%d').date()\n",
    "    \n",
    "    # Bound the dates to the quarter.\n",
    "    if date_obj < date(year=2019, month=6, day=1):\n",
    "        continue\n",
    "    if date_obj > date(year=2019, month=9, day=30):\n",
    "        continue\n",
    "        \n",
    "    # Add the date to the date list.\n",
    "    date_list.append(date_obj)\n"
   ]
  },
  {
   "cell_type": "code",
   "execution_count": 13,
   "metadata": {
    "presto": {
     "id": "8b47f6e8-7fc4-48f8-aa25-c0278e64c25b"
    }
   },
   "outputs": [
    {
     "data": {
      "image/png": "[encoded data removed]",
      "text/plain": [
       "<Figure size 432x288 with 1 Axes>"
      ]
     },
     "metadata": {
      "needs_background": "light"
     },
     "output_type": "display_data"
    }
   ],
   "source": [
    "fig, ax = plt.subplots()\n",
    "ax.hist(date_list, bins=25, color='#63a4ff')\n",
    "\n",
    "# rotate and align the tick labels so they look better\n",
    "fig.autofmt_xdate()\n",
    "ax.fmt_xdata = mdates.DateFormatter('%Y-%m-%d')"
   ]
  },
  {
   "cell_type": "markdown",
   "metadata": {
    "presto": {
     "id": "74f56511-8f7f-4872-8277-9c993cf57f3a"
    }
   },
   "source": [
    "<h3 style=\"text-align:center;font:cambria\">2019</h3>"
   ]
  },
  {
   "cell_type": "markdown",
   "metadata": {
    "presto": {
     "id": "45ceff3d-ddc1-496d-9d86-bfc132c5c2ca"
    }
   },
   "source": [
    "<h4 style=\"text-align:center;font:cambria\">Totals for Q3 in previous years.</h4>\n",
    "<table>\n",
    "    <tr><th>2017</th><th>2018</th><th>2019</th></tr>\n",
    "    <tr><td>4664</td><td>7152</td><td>11508</td></tr>"
   ]
  },
  {
   "cell_type": "code",
   "execution_count": null,
   "metadata": {},
   "outputs": [],
   "source": []
  }
 ],
 "metadata": {
  "kernelspec": {
   "display_name": "Python 3",
   "language": "python",
   "name": "python3"
  },
  "language_info": {
   "codemirror_mode": {
    "name": "ipython",
    "version": 3
   },
   "file_extension": ".py",
   "mimetype": "text/x-python",
   "name": "python",
   "nbconvert_exporter": "python",
   "pygments_lexer": "ipython3",
   "version": "3.8.5"
  },
  "presto": {
   "id": "3d2b9721-417f-4c0e-9831-cc8594af30f6"
  }
 },
 "nbformat": 4,
 "nbformat_minor": 4
}
