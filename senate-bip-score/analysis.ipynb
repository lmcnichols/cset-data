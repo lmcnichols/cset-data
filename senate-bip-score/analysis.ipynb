{
 "cells": [
  {
   "cell_type": "code",
   "execution_count": 1,
   "id": "nervous-honduras",
   "metadata": {},
   "outputs": [
    {
     "name": "stderr",
     "output_type": "stream",
     "text": [
      "Registered S3 methods overwritten by 'ggplot2':\n",
      "  method         from \n",
      "  [.quosures     rlang\n",
      "  c.quosures     rlang\n",
      "  print.quosures rlang\n"
     ]
    }
   ],
   "source": [
    "library(ggplot2)\n",
    "library(scales)\n",
    "options(repr.plot.height=6, repr.plot.width=10)"
   ]
  },
  {
   "cell_type": "markdown",
   "id": "magnetic-nightmare",
   "metadata": {},
   "source": [
    "Go back 20 years."
   ]
  },
  {
   "cell_type": "code",
   "execution_count": 2,
   "id": "drawn-manual",
   "metadata": {},
   "outputs": [],
   "source": [
    "data = read.csv('../data/senate-bip-score/data.csv')\n",
    "\n",
    "data$date <- as.Date(data$date)\n",
    "data <- data[data$date > as.Date('2001-05-27'),]"
   ]
  },
  {
   "cell_type": "markdown",
   "id": "peaceful-making",
   "metadata": {},
   "source": [
    "Find bills with at least one cosponsor from the opposite party."
   ]
  },
  {
   "cell_type": "code",
   "execution_count": 3,
   "id": "authorized-sweet",
   "metadata": {},
   "outputs": [],
   "source": [
    "dem_bip <- data[data$sponsor_party == \"D\" & data$gop_cosponsors > 0, c(\"date\", \"gop_cosponsors\")]\n",
    "gop_bip <- data[data$sponsor_party == \"R\" & data$dem_cosponsors > 0, c(\"date\", \"dem_cosponsors\")]\n",
    "\n",
    "names(dem_bip)[2]<- \"opp_cosponsor\"\n",
    "names(gop_bip)[2] <- \"opp_cosponsor\"\n",
    "bip <- rbind(dem_bip, gop_bip)\n",
    "\n",
    "bip <- bip[order(bip$date),]"
   ]
  },
  {
   "cell_type": "markdown",
   "id": "listed-serial",
   "metadata": {},
   "source": [
    "### Weighted"
   ]
  },
  {
   "cell_type": "code",
   "execution_count": 4,
   "id": "moved-wedding",
   "metadata": {},
   "outputs": [
    {
     "data": {
      "image/png": "[encoded data removed]",
      "text/plain": [
       "plot without title"
      ]
     },
     "metadata": {},
     "output_type": "display_data"
    }
   ],
   "source": [
    "ggplot(bip, aes(date, weight=opp_cosponsor)) + \n",
    "geom_histogram( fill='orange', breaks=seq(as.Date('2001-05-27'), as.Date('2021-05-27'), by= \"1 years\")) +\n",
    "scale_x_date(labels=date_format(\"%Y\"), breaks=date_breaks('year')) +\n",
    "theme(axis.text.x=element_text(angle = -90, hjust = 0))"
   ]
  },
  {
   "cell_type": "markdown",
   "id": "empty-roman",
   "metadata": {},
   "source": [
    "Plot without weighting by number of cosponsors."
   ]
  },
  {
   "cell_type": "markdown",
   "id": "spanish-closer",
   "metadata": {},
   "source": [
    "### unweighted"
   ]
  },
  {
   "cell_type": "code",
   "execution_count": 5,
   "id": "engaged-villa",
   "metadata": {},
   "outputs": [
    {
     "data": {
      "image/png": "[encoded data removed]",
      "text/plain": [
       "plot without title"
      ]
     },
     "metadata": {},
     "output_type": "display_data"
    }
   ],
   "source": [
    "ggplot(bip, aes(date)) + \n",
    "geom_histogram( fill='orange', breaks=seq(as.Date('2001-05-27'), as.Date('2021-05-27'), by= \"1 years\")) +\n",
    "scale_x_date(labels=date_format(\"%Y\"), breaks=date_breaks('year')) +\n",
    "theme(axis.text.x=element_text(angle = -90, hjust = 0))"
   ]
  }
 ],
 "metadata": {
  "kernelspec": {
   "display_name": "R",
   "language": "R",
   "name": "ir"
  },
  "language_info": {
   "codemirror_mode": "r",
   "file_extension": ".r",
   "mimetype": "text/x-r-source",
   "name": "R",
   "pygments_lexer": "r",
   "version": "3.6.1"
  }
 },
 "nbformat": 4,
 "nbformat_minor": 5
}
