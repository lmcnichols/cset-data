{
 "cells": [
  {
   "cell_type": "code",
   "execution_count": 23,
   "id": "posted-andorra",
   "metadata": {},
   "outputs": [],
   "source": [
    "import pandas as pd"
   ]
  },
  {
   "cell_type": "code",
   "execution_count": 24,
   "id": "thirty-consultation",
   "metadata": {},
   "outputs": [],
   "source": [
    "# Fetch the CSET data to cross reference with your data.\n",
    "cset_data = pd.read_csv(\"cset_data.csv\", index_col=\"date\")"
   ]
  },
  {
   "cell_type": "code",
   "execution_count": 25,
   "id": "wrong-depression",
   "metadata": {},
   "outputs": [],
   "source": [
    "csv_files = [\n",
    "    \"../data/chinese_imports_of_SME_2022/comtrade2006-2010.csv\",\n",
    "    \"../data/chinese_imports_of_SME_2022/comtrade_2011-2015.csv\",\n",
    "    \"../data/chinese_imports_of_SME_2022/comtrade_2016-2020.csv\"\n",
    "]"
   ]
  },
  {
   "cell_type": "code",
   "execution_count": 28,
   "id": "proprietary-projection",
   "metadata": {},
   "outputs": [],
   "source": [
    "dfs = []\n",
    "for file in csv_files:\n",
    "    df = pd.read_csv(file)\n",
    "    df = (\n",
    "        df\n",
    "        .rename(columns={\"Trade Value (US$)\": \"quant\", \"Year\": \"date\"})\n",
    "        .loc[df[\"Partner\"]!=\"World\",[\"date\", \"quant\", \"Partner\"]]\n",
    "        .groupby([\"date\", \"Partner\"])[\"quant\"]\n",
    "        .aggregate(sum)\n",
    "        .reset_index(level=\"Partner\", drop=False)\n",
    "        )\n",
    "    dfs.append(df)\n",
    "my_data = pd.concat(dfs, axis=0, ignore_index=False)"
   ]
  },
  {
   "cell_type": "markdown",
   "id": "comprehensive-purchase",
   "metadata": {},
   "source": [
    "Check numbers against CSET's"
   ]
  },
  {
   "cell_type": "code",
   "execution_count": 29,
   "id": "floating-casting",
   "metadata": {},
   "outputs": [
    {
     "data": {
      "text/plain": [
       "True"
      ]
     },
     "execution_count": 29,
     "metadata": {},
     "output_type": "execute_result"
    }
   ],
   "source": [
    "my_data_agg = my_data.groupby(\"date\").aggregate(sum)\n",
    "\n",
    "my_data_agg[\"Partner\"] = \"World\"\n",
    "\n",
    "compare = my_data_agg.merge(cset_data, left_index=True, right_index=True, suffixes=[\"_mine\", \"_csets\"], how=\"inner\")\n",
    "\n",
    "(compare[\"quant_mine\"] - compare[\"quant_csets\"] == 0).all()"
   ]
  },
  {
   "cell_type": "markdown",
   "id": "upper-general",
   "metadata": {},
   "source": [
    "Combine aggregated with partner specific (only include major partners)."
   ]
  },
  {
   "cell_type": "code",
   "execution_count": 30,
   "id": "southwest-worship",
   "metadata": {},
   "outputs": [],
   "source": [
    "my_data = my_data.loc[my_data[\"quant\"] > 1e9]\n",
    "\n",
    "my_data = pd.concat([my_data, my_data_agg], axis=0, ignore_index=False)\n",
    "\n",
    "my_data.to_csv(\"data_cleaned.csv\")"
   ]
  }
 ],
 "metadata": {
  "kernelspec": {
   "display_name": "Python 3",
   "language": "python",
   "name": "python3"
  },
  "language_info": {
   "codemirror_mode": {
    "name": "ipython",
    "version": 3
   },
   "file_extension": ".py",
   "mimetype": "text/x-python",
   "name": "python",
   "nbconvert_exporter": "python",
   "pygments_lexer": "ipython3",
   "version": "3.9.2"
  }
 },
 "nbformat": 4,
 "nbformat_minor": 5
}
