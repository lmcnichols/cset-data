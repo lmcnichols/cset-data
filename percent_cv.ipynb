{
 "cells": [
  {
   "cell_type": "code",
   "execution_count": 7,
   "metadata": {},
   "outputs": [],
   "source": [
    "import arxiv\n",
    "from datetime import date, datetime\n",
    "import datetime as dt\n",
    "import re\n",
    "import time\n",
    "import matplotlib.pyplot as plt\n",
    "import matplotlib.dates as mdates\n",
    "from datetime import date\n",
    "import datetime as dt\n",
    "from typing import List"
   ]
  },
  {
   "cell_type": "code",
   "execution_count": 2,
   "metadata": {},
   "outputs": [],
   "source": [
    "H1_2017 = {\n",
    "    'start': date(day=1, month=1, year=2017),\n",
    "    'end': date(day=30, month=6, year=2017)\n",
    "}\n",
    "H2_2017 = {\n",
    "    'start': date(day=1, month=7, year=2017),\n",
    "    'end': date(day=31, month=12, year=2017)\n",
    "}\n",
    "H1_2018 = {\n",
    "    'start': date(day=1, month=1, year=2018),\n",
    "    'end': date(day=30, month=6, year=2018)\n",
    "}\n",
    "H2_2018 = {\n",
    "    'start': date(day=1, month=7, year=2018),\n",
    "    'end': date(day=31, month=12, year=2018)\n",
    "}\n",
    "H1_2019 = {\n",
    "    'start': date(day=1, month=1, year=2019),\n",
    "    'end': date(day=30, month=6, year=2019)\n",
    "}\n",
    "H2_2019 = {\n",
    "    'start': date(day=1, month=7, year=2019),\n",
    "    'end': date(day=31, month=12, year=2019)\n",
    "}\n",
    "H1_2020 = {\n",
    "    'start': date(day=1, month=1, year=2020),\n",
    "    'end': date(day=30, month=6, year=2020)\n",
    "}\n",
    "H2_2020 = {\n",
    "    'start': date(day=1, month=7, year=2020),\n",
    "    'end': date(day=31, month=12, year=2020)\n",
    "}"
   ]
  },
  {
   "cell_type": "markdown",
   "metadata": {},
   "source": [
    "Set up dictionaries to hold the paper dates.\n",
    "We use dictionaries to ensure each paper id is counted only once."
   ]
  },
  {
   "cell_type": "code",
   "execution_count": 3,
   "metadata": {},
   "outputs": [],
   "source": [
    "h1_2017_papers = dict()\n",
    "h2_2017_papers = dict()\n",
    "\n",
    "h1_2018_papers = dict()\n",
    "h2_2018_papers = dict()\n",
    "\n",
    "h1_2019_papers = dict()\n",
    "h2_2019_papers = dict()\n",
    "\n",
    "h1_2020_papers = dict()\n",
    "h2_2020_papers = dict()"
   ]
  },
  {
   "cell_type": "markdown",
   "metadata": {},
   "source": [
    "Set up variables to count the computer vision papers."
   ]
  },
  {
   "cell_type": "code",
   "execution_count": 4,
   "metadata": {},
   "outputs": [],
   "source": [
    "h1_2017_papers_cv = dict()\n",
    "h2_2017_papers_cv = dict()\n",
    "\n",
    "h1_2018_papers_cv = dict()\n",
    "h2_2018_papers_cv = dict()\n",
    "\n",
    "h1_2019_papers_cv = dict()\n",
    "h2_2019_papers_cv = dict()\n",
    "\n",
    "h1_2020_papers_cv = dict()\n",
    "h2_2020_papers_cv = dict()"
   ]
  },
  {
   "cell_type": "code",
   "execution_count": 24,
   "metadata": {},
   "outputs": [],
   "source": [
    "def make_query(start):\n",
    "    return(\n",
    "    arxiv.query(\n",
    "        query = 'cs.ai OR cs.cv OR cs.cl OR cs.lg OR cs.ro',\n",
    "        start=start,\n",
    "        max_results = None,\n",
    "        max_chunk_results=3000,\n",
    "        sort_by = 'submittedDate',\n",
    "        sort_order = 'descending',\n",
    "        iterative=True\n",
    "    )\n",
    ")"
   ]
  },
  {
   "cell_type": "code",
   "execution_count": 28,
   "metadata": {},
   "outputs": [],
   "source": [
    "def parse_date(arxiv_pub_obj) -> date:\n",
    "    date_string = arxiv_pub_obj['published']\n",
    "    cleaned_date_string = re.search('\\D*(\\d+-\\d+-\\d+).*', date_string).group(1)\n",
    "    return datetime.strptime(cleaned_date_string, '%Y-%m-%d').date()\n",
    "\n",
    "def parse_categories(arxiv_pub_obj) -> List[str]:\n",
    "    categories = []\n",
    "    for tag in arxiv_pub_obj[\"tags\"]:\n",
    "        categories.append(tag[\"term\"].lower())\n",
    "    return categories"
   ]
  },
  {
   "cell_type": "code",
   "execution_count": 29,
   "metadata": {},
   "outputs": [
    {
     "name": "stdout",
     "output_type": "stream",
     "text": [
      "Parsed through  3000\n",
      "On date  2020-10-29\n",
      "Parsed through  6000\n",
      "On date  2020-10-12\n",
      "Pausing for 3 seconds, Arxive needs a breather apparently.\n",
      "Parsed through  9000\n",
      "On date  2020-09-21\n",
      "Pausing for 8 seconds, Arxive needs a breather apparently.\n",
      "Parsed through  12000\n",
      "On date  2020-08-23\n",
      "Parsed through  15000\n",
      "On date  2020-07-27\n",
      "Pausing for 13 seconds, Arxive needs a breather apparently.\n",
      "Pausing for 18 seconds, Arxive needs a breather apparently.\n",
      "Pausing for 23 seconds, Arxive needs a breather apparently.\n",
      "Parsed through  18000\n",
      "On date  2020-07-04\n",
      "Parsed through  21000\n",
      "On date  2020-06-14\n",
      "Parsed through  24000\n",
      "On date  2020-05-23\n",
      "Parsed through  27000\n",
      "On date  2020-04-29\n",
      "Pausing for 28 seconds, Arxive needs a breather apparently.\n",
      "Parsed through  30000\n",
      "On date  2020-04-03\n",
      "Parsed through  33000\n",
      "On date  2020-03-06\n",
      "Pausing for 33 seconds, Arxive needs a breather apparently.\n",
      "Pausing for 38 seconds, Arxive needs a breather apparently.\n",
      "Pausing for 43 seconds, Arxive needs a breather apparently.\n",
      "Parsed through  36000\n",
      "On date  2020-02-11\n",
      "Parsed through  39000\n",
      "On date  2020-01-07\n",
      "Pausing for 48 seconds, Arxive needs a breather apparently.\n",
      "Parsed through  42000\n",
      "On date  2019-12-02\n",
      "Parsed through  45000\n",
      "On date  2019-11-05\n",
      "Parsed through  48000\n",
      "On date  2019-10-08\n",
      "Pausing for 53 seconds, Arxive needs a breather apparently.\n",
      "Pausing for 58 seconds, Arxive needs a breather apparently.\n",
      "Pausing for 63 seconds, Arxive needs a breather apparently.\n",
      "Pausing for 68 seconds, Arxive needs a breather apparently.\n",
      "Pausing for 73 seconds, Arxive needs a breather apparently.\n",
      "Pausing for 78 seconds, Arxive needs a breather apparently.\n",
      "Pausing for 83 seconds, Arxive needs a breather apparently.\n",
      "Pausing for 88 seconds, Arxive needs a breather apparently.\n",
      "Pausing for 93 seconds, Arxive needs a breather apparently.\n"
     ]
    },
    {
     "ename": "KeyboardInterrupt",
     "evalue": "",
     "output_type": "error",
     "traceback": [
      "\u001b[1;31m---------------------------------------------------------------------------\u001b[0m",
      "\u001b[1;31mKeyboardInterrupt\u001b[0m                         Traceback (most recent call last)",
      "\u001b[1;32m<ipython-input-29-573210e98aab>\u001b[0m in \u001b[0;36m<module>\u001b[1;34m\u001b[0m\n\u001b[0;32m     75\u001b[0m     \u001b[1;31m# Message that we are pausing.\u001b[0m\u001b[1;33m\u001b[0m\u001b[1;33m\u001b[0m\u001b[1;33m\u001b[0m\u001b[0m\n\u001b[0;32m     76\u001b[0m     \u001b[0mprint\u001b[0m\u001b[1;33m(\u001b[0m\u001b[1;34m'Pausing for '\u001b[0m \u001b[1;33m+\u001b[0m \u001b[0mstr\u001b[0m\u001b[1;33m(\u001b[0m\u001b[0msleep_time\u001b[0m\u001b[1;33m)\u001b[0m \u001b[1;33m+\u001b[0m \u001b[1;34m' seconds, Arxive needs a breather apparently.'\u001b[0m\u001b[1;33m)\u001b[0m\u001b[1;33m\u001b[0m\u001b[1;33m\u001b[0m\u001b[0m\n\u001b[1;32m---> 77\u001b[1;33m     \u001b[0mtime\u001b[0m\u001b[1;33m.\u001b[0m\u001b[0msleep\u001b[0m\u001b[1;33m(\u001b[0m\u001b[0msleep_time\u001b[0m\u001b[1;33m)\u001b[0m\u001b[1;33m\u001b[0m\u001b[1;33m\u001b[0m\u001b[0m\n\u001b[0m\u001b[0;32m     78\u001b[0m     \u001b[0msleep_time\u001b[0m \u001b[1;33m+=\u001b[0m \u001b[1;36m5\u001b[0m\u001b[1;33m\u001b[0m\u001b[1;33m\u001b[0m\u001b[0m\n",
      "\u001b[1;31mKeyboardInterrupt\u001b[0m: "
     ]
    }
   ],
   "source": [
    "sleep_time = 3\n",
    "post2017 = True\n",
    "i = 0\n",
    "out_of_date_streak = 0\n",
    "while post2017:\n",
    "    # Fetch a batch starting where we left off.\n",
    "    results = make_query(i)\n",
    "    \n",
    "    for result in results():\n",
    "        # Fetch the date submitted.\n",
    "        submit_date = parse_date(result)\n",
    "        categories = parse_categories(result)\n",
    "        pub_id = result['id']\n",
    "        \n",
    "        # add it to the correct dictionary.\n",
    "        if H1_2017['start'] <= submit_date <= H1_2017['end']:\n",
    "            out_of_date_streak = 0\n",
    "            h1_2017_papers[pub_id] = submit_date\n",
    "            if \"cs.cv\" in categories:\n",
    "                h1_2017_papers_cv[pub_id] = submit_date\n",
    "        elif H2_2017['start'] <= submit_date <= H2_2017['end']:\n",
    "            out_of_date_streak = 0\n",
    "            h2_2017_papers[pub_id] = submit_date\n",
    "            if \"cs.cv\" in categories:\n",
    "                h2_2017_papers_cv[pub_id] = submit_date\n",
    "\n",
    "        elif H1_2018['start'] <= submit_date <= H1_2018['end']:\n",
    "            out_of_date_streak = 0\n",
    "            h1_2018_papers[pub_id] = submit_date\n",
    "            if \"cs.cv\" in categories:\n",
    "                h1_2018_papers_cv[pub_id] = submit_date\n",
    "        elif H2_2018['start'] <= submit_date <= H2_2018['end']:\n",
    "            out_of_date_streak = 0\n",
    "            h2_2018_papers[pub_id] = submit_date\n",
    "            if \"cs.cv\" in categories:\n",
    "                h2_2018_papers_cv[pub_id] = submit_date\n",
    "\n",
    "        elif H1_2019['start'] <= submit_date <= H1_2019['end']:\n",
    "            out_of_date_streak = 0\n",
    "            h1_2019_papers[pub_id] = submit_date\n",
    "            if \"cs.cv\" in categories:\n",
    "                h1_2019_papers_cv[pub_id] = submit_date\n",
    "        elif H2_2019['start'] <= submit_date <= H2_2019['end']:\n",
    "            out_of_date_streak = 0\n",
    "            h2_2019_papers[pub_id] = submit_date\n",
    "            if \"cs.cv\" in categories:\n",
    "                h2_2019_papers_cv[pub_id] = submit_date\n",
    "\n",
    "        elif H1_2020['start'] <= submit_date <= H1_2020['end']:\n",
    "            out_of_date_streak = 0\n",
    "            h1_2020_papers[pub_id] = submit_date\n",
    "            if \"cs.cv\" in categories:\n",
    "                h1_2020_papers_cv[pub_id] = submit_date\n",
    "        elif H2_2020['start'] <= submit_date <= H2_2020['end']:\n",
    "            out_of_date_streak = 0\n",
    "            h2_2020_papers[pub_id] = submit_date\n",
    "            if \"cs.cv\" in categories:\n",
    "                h2_2020_papers_cv[pub_id] = submit_date\n",
    "        else:\n",
    "            out_of_date_streak += 1\n",
    "            print(f\"Out of date streak is {out_of_date_streak}\")\n",
    "            if out_of_date_streak > 5:\n",
    "                print(\"Breaking\")\n",
    "                post2017 = False\n",
    "                break\n",
    "\n",
    "        # Increment the counter to the next result.\n",
    "        i += 1\n",
    "        \n",
    "        # Let the user know our progress.\n",
    "        if i%3000 == 0:\n",
    "            print('Parsed through ', str(i))\n",
    "            print('On date ', submit_date)\n",
    "    \n",
    "    # Message that we are pausing.\n",
    "    print('Pausing for ' + str(sleep_time) + ' seconds, Arxive needs a breather apparently.')\n",
    "    time.sleep(sleep_time)\n",
    "    sleep_time += 5"
   ]
  },
  {
   "cell_type": "markdown",
   "metadata": {},
   "source": [
    "### H1 2017 Results."
   ]
  },
  {
   "cell_type": "markdown",
   "metadata": {},
   "source": [
    "Total"
   ]
  },
  {
   "cell_type": "code",
   "execution_count": 30,
   "metadata": {},
   "outputs": [
    {
     "data": {
      "text/plain": [
       "0"
      ]
     },
     "execution_count": 30,
     "metadata": {},
     "output_type": "execute_result"
    }
   ],
   "source": [
    "len(h1_2017_papers.values())"
   ]
  },
  {
   "cell_type": "markdown",
   "metadata": {},
   "source": [
    "Proportion that is computer vision."
   ]
  },
  {
   "cell_type": "code",
   "execution_count": 31,
   "metadata": {},
   "outputs": [
    {
     "ename": "ZeroDivisionError",
     "evalue": "division by zero",
     "output_type": "error",
     "traceback": [
      "\u001b[1;31m---------------------------------------------------------------------------\u001b[0m",
      "\u001b[1;31mZeroDivisionError\u001b[0m                         Traceback (most recent call last)",
      "\u001b[1;32m<ipython-input-31-41eeb9b1df74>\u001b[0m in \u001b[0;36m<module>\u001b[1;34m\u001b[0m\n\u001b[1;32m----> 1\u001b[1;33m \u001b[0mlen\u001b[0m\u001b[1;33m(\u001b[0m\u001b[0mh1_2017_papers_cv\u001b[0m\u001b[1;33m.\u001b[0m\u001b[0mvalues\u001b[0m\u001b[1;33m(\u001b[0m\u001b[1;33m)\u001b[0m\u001b[1;33m)\u001b[0m \u001b[1;33m/\u001b[0m \u001b[0mlen\u001b[0m\u001b[1;33m(\u001b[0m\u001b[0mh1_2017_papers\u001b[0m\u001b[1;33m.\u001b[0m\u001b[0mvalues\u001b[0m\u001b[1;33m(\u001b[0m\u001b[1;33m)\u001b[0m\u001b[1;33m)\u001b[0m\u001b[1;33m\u001b[0m\u001b[1;33m\u001b[0m\u001b[0m\n\u001b[0m",
      "\u001b[1;31mZeroDivisionError\u001b[0m: division by zero"
     ]
    }
   ],
   "source": [
    "len(h1_2017_papers_cv.values()) / len(h1_2017_papers.values())"
   ]
  },
  {
   "cell_type": "markdown",
   "metadata": {},
   "source": [
    "Histogram where each bin represents roughly a week."
   ]
  },
  {
   "cell_type": "code",
   "execution_count": 32,
   "metadata": {},
   "outputs": [
    {
     "data": {
      "image/png": "[encoded data removed]",
      "text/plain": [
       "<Figure size 432x288 with 1 Axes>"
      ]
     },
     "metadata": {
      "needs_background": "light"
     },
     "output_type": "display_data"
    }
   ],
   "source": [
    "fig, ax = plt.subplots()\n",
    "ax.hist(h1_2017_papers.values(), bins=14, color='#ff7433')\n",
    "ax.set_title(\"Histogram of publications by date\")\n",
    "fig.autofmt_xdate()\n",
    "ax.fmt_xdata = mdates.DateFormatter(\"%y-%m-%d\")"
   ]
  },
  {
   "cell_type": "markdown",
   "metadata": {},
   "source": [
    "### H2 2017 Results."
   ]
  },
  {
   "cell_type": "code",
   "execution_count": 33,
   "metadata": {},
   "outputs": [
    {
     "data": {
      "text/plain": [
       "0"
      ]
     },
     "execution_count": 33,
     "metadata": {},
     "output_type": "execute_result"
    }
   ],
   "source": [
    "len(h2_2017_papers.values())"
   ]
  },
  {
   "cell_type": "markdown",
   "metadata": {},
   "source": [
    "Proportion that is computer vision."
   ]
  },
  {
   "cell_type": "code",
   "execution_count": 34,
   "metadata": {},
   "outputs": [
    {
     "ename": "ZeroDivisionError",
     "evalue": "division by zero",
     "output_type": "error",
     "traceback": [
      "\u001b[1;31m---------------------------------------------------------------------------\u001b[0m",
      "\u001b[1;31mZeroDivisionError\u001b[0m                         Traceback (most recent call last)",
      "\u001b[1;32m<ipython-input-34-afb3013acf94>\u001b[0m in \u001b[0;36m<module>\u001b[1;34m\u001b[0m\n\u001b[1;32m----> 1\u001b[1;33m \u001b[0mlen\u001b[0m\u001b[1;33m(\u001b[0m\u001b[0mh2_2017_papers_cv\u001b[0m\u001b[1;33m.\u001b[0m\u001b[0mvalues\u001b[0m\u001b[1;33m(\u001b[0m\u001b[1;33m)\u001b[0m\u001b[1;33m)\u001b[0m \u001b[1;33m/\u001b[0m \u001b[0mlen\u001b[0m\u001b[1;33m(\u001b[0m\u001b[0mh2_2017_papers\u001b[0m\u001b[1;33m.\u001b[0m\u001b[0mvalues\u001b[0m\u001b[1;33m(\u001b[0m\u001b[1;33m)\u001b[0m\u001b[1;33m)\u001b[0m\u001b[1;33m\u001b[0m\u001b[1;33m\u001b[0m\u001b[0m\n\u001b[0m",
      "\u001b[1;31mZeroDivisionError\u001b[0m: division by zero"
     ]
    }
   ],
   "source": [
    "len(h2_2017_papers_cv.values()) / len(h2_2017_papers.values())"
   ]
  },
  {
   "cell_type": "markdown",
   "metadata": {},
   "source": [
    "Histogram where each bin represents roughly a week."
   ]
  },
  {
   "cell_type": "code",
   "execution_count": 35,
   "metadata": {},
   "outputs": [
    {
     "data": {
      "image/png": "[encoded data removed]",
      "text/plain": [
       "<Figure size 432x288 with 1 Axes>"
      ]
     },
     "metadata": {
      "needs_background": "light"
     },
     "output_type": "display_data"
    }
   ],
   "source": [
    "fig, ax = plt.subplots()\n",
    "ax.hist(h2_2017_papers.values(), bins=14, color='#ff7433')\n",
    "ax.set_title(\"Histogram of publications by date\")\n",
    "fig.autofmt_xdate()\n",
    "ax.fmt_xdata = mdates.DateFormatter(\"%y-%m-%d\")"
   ]
  },
  {
   "cell_type": "markdown",
   "metadata": {},
   "source": [
    "### H1 2018 Results."
   ]
  },
  {
   "cell_type": "markdown",
   "metadata": {},
   "source": [
    "Total"
   ]
  },
  {
   "cell_type": "code",
   "execution_count": 36,
   "metadata": {},
   "outputs": [
    {
     "data": {
      "text/plain": [
       "0"
      ]
     },
     "execution_count": 36,
     "metadata": {},
     "output_type": "execute_result"
    }
   ],
   "source": [
    "len(h1_2018_papers.values())"
   ]
  },
  {
   "cell_type": "markdown",
   "metadata": {},
   "source": [
    "Proportion that is computer vision."
   ]
  },
  {
   "cell_type": "code",
   "execution_count": 37,
   "metadata": {},
   "outputs": [
    {
     "ename": "ZeroDivisionError",
     "evalue": "division by zero",
     "output_type": "error",
     "traceback": [
      "\u001b[1;31m---------------------------------------------------------------------------\u001b[0m",
      "\u001b[1;31mZeroDivisionError\u001b[0m                         Traceback (most recent call last)",
      "\u001b[1;32m<ipython-input-37-6d1b82518dc5>\u001b[0m in \u001b[0;36m<module>\u001b[1;34m\u001b[0m\n\u001b[1;32m----> 1\u001b[1;33m \u001b[0mlen\u001b[0m\u001b[1;33m(\u001b[0m\u001b[0mh1_2018_papers_cv\u001b[0m\u001b[1;33m.\u001b[0m\u001b[0mvalues\u001b[0m\u001b[1;33m(\u001b[0m\u001b[1;33m)\u001b[0m\u001b[1;33m)\u001b[0m \u001b[1;33m/\u001b[0m \u001b[0mlen\u001b[0m\u001b[1;33m(\u001b[0m\u001b[0mh1_2018_papers\u001b[0m\u001b[1;33m.\u001b[0m\u001b[0mvalues\u001b[0m\u001b[1;33m(\u001b[0m\u001b[1;33m)\u001b[0m\u001b[1;33m)\u001b[0m\u001b[1;33m\u001b[0m\u001b[1;33m\u001b[0m\u001b[0m\n\u001b[0m",
      "\u001b[1;31mZeroDivisionError\u001b[0m: division by zero"
     ]
    }
   ],
   "source": [
    "len(h1_2018_papers_cv.values()) / len(h1_2018_papers.values())"
   ]
  },
  {
   "cell_type": "markdown",
   "metadata": {},
   "source": [
    "Histogram where each bin represents roughly a week."
   ]
  },
  {
   "cell_type": "code",
   "execution_count": 38,
   "metadata": {},
   "outputs": [
    {
     "data": {
      "image/png": "[encoded data removed]",
      "text/plain": [
       "<Figure size 432x288 with 1 Axes>"
      ]
     },
     "metadata": {
      "needs_background": "light"
     },
     "output_type": "display_data"
    }
   ],
   "source": [
    "fig, ax = plt.subplots()\n",
    "ax.hist(h1_2018_papers.values(), bins=14, color='#ff7433')\n",
    "ax.set_title(\"Histogram of publications by date\")\n",
    "fig.autofmt_xdate()\n",
    "ax.fmt_xdata = mdates.DateFormatter(\"%y-%m-%d\")"
   ]
  },
  {
   "cell_type": "markdown",
   "metadata": {},
   "source": [
    "### H2 2018 Results."
   ]
  },
  {
   "cell_type": "code",
   "execution_count": 39,
   "metadata": {},
   "outputs": [
    {
     "data": {
      "text/plain": [
       "0"
      ]
     },
     "execution_count": 39,
     "metadata": {},
     "output_type": "execute_result"
    }
   ],
   "source": [
    "len(h2_2018_papers.values())"
   ]
  },
  {
   "cell_type": "markdown",
   "metadata": {},
   "source": [
    "Proportion that is computer vision."
   ]
  },
  {
   "cell_type": "code",
   "execution_count": 40,
   "metadata": {},
   "outputs": [
    {
     "ename": "ZeroDivisionError",
     "evalue": "division by zero",
     "output_type": "error",
     "traceback": [
      "\u001b[1;31m---------------------------------------------------------------------------\u001b[0m",
      "\u001b[1;31mZeroDivisionError\u001b[0m                         Traceback (most recent call last)",
      "\u001b[1;32m<ipython-input-40-eb5b575ef9f6>\u001b[0m in \u001b[0;36m<module>\u001b[1;34m\u001b[0m\n\u001b[1;32m----> 1\u001b[1;33m \u001b[0mlen\u001b[0m\u001b[1;33m(\u001b[0m\u001b[0mh2_2018_papers_cv\u001b[0m\u001b[1;33m.\u001b[0m\u001b[0mvalues\u001b[0m\u001b[1;33m(\u001b[0m\u001b[1;33m)\u001b[0m\u001b[1;33m)\u001b[0m \u001b[1;33m/\u001b[0m \u001b[0mlen\u001b[0m\u001b[1;33m(\u001b[0m\u001b[0mh2_2018_papers\u001b[0m\u001b[1;33m.\u001b[0m\u001b[0mvalues\u001b[0m\u001b[1;33m(\u001b[0m\u001b[1;33m)\u001b[0m\u001b[1;33m)\u001b[0m\u001b[1;33m\u001b[0m\u001b[1;33m\u001b[0m\u001b[0m\n\u001b[0m",
      "\u001b[1;31mZeroDivisionError\u001b[0m: division by zero"
     ]
    }
   ],
   "source": [
    "len(h2_2018_papers_cv.values()) / len(h2_2018_papers.values())"
   ]
  },
  {
   "cell_type": "markdown",
   "metadata": {},
   "source": [
    "Histogram where each bin represents roughly a week."
   ]
  },
  {
   "cell_type": "code",
   "execution_count": 41,
   "metadata": {},
   "outputs": [
    {
     "data": {
      "image/png": "[encoded data removed]",
      "text/plain": [
       "<Figure size 432x288 with 1 Axes>"
      ]
     },
     "metadata": {
      "needs_background": "light"
     },
     "output_type": "display_data"
    }
   ],
   "source": [
    "fig, ax = plt.subplots()\n",
    "ax.hist(h2_2018_papers.values(), bins=14, color='#ff7433')\n",
    "ax.set_title(\"Histogram of publications by date\")\n",
    "fig.autofmt_xdate()\n",
    "ax.fmt_xdata = mdates.DateFormatter(\"%y-%m-%d\")"
   ]
  },
  {
   "cell_type": "markdown",
   "metadata": {},
   "source": [
    "### H1 2019 Results."
   ]
  },
  {
   "cell_type": "markdown",
   "metadata": {},
   "source": [
    "Total"
   ]
  },
  {
   "cell_type": "code",
   "execution_count": 42,
   "metadata": {},
   "outputs": [
    {
     "data": {
      "text/plain": [
       "0"
      ]
     },
     "execution_count": 42,
     "metadata": {},
     "output_type": "execute_result"
    }
   ],
   "source": [
    "len(h1_2019_papers.values())"
   ]
  },
  {
   "cell_type": "markdown",
   "metadata": {},
   "source": [
    "Proportion that is computer vision."
   ]
  },
  {
   "cell_type": "code",
   "execution_count": 43,
   "metadata": {},
   "outputs": [
    {
     "ename": "ZeroDivisionError",
     "evalue": "division by zero",
     "output_type": "error",
     "traceback": [
      "\u001b[1;31m---------------------------------------------------------------------------\u001b[0m",
      "\u001b[1;31mZeroDivisionError\u001b[0m                         Traceback (most recent call last)",
      "\u001b[1;32m<ipython-input-43-448afafdec29>\u001b[0m in \u001b[0;36m<module>\u001b[1;34m\u001b[0m\n\u001b[1;32m----> 1\u001b[1;33m \u001b[0mlen\u001b[0m\u001b[1;33m(\u001b[0m\u001b[0mh1_2019_papers_cv\u001b[0m\u001b[1;33m.\u001b[0m\u001b[0mvalues\u001b[0m\u001b[1;33m(\u001b[0m\u001b[1;33m)\u001b[0m\u001b[1;33m)\u001b[0m \u001b[1;33m/\u001b[0m \u001b[0mlen\u001b[0m\u001b[1;33m(\u001b[0m\u001b[0mh1_2019_papers\u001b[0m\u001b[1;33m.\u001b[0m\u001b[0mvalues\u001b[0m\u001b[1;33m(\u001b[0m\u001b[1;33m)\u001b[0m\u001b[1;33m)\u001b[0m\u001b[1;33m\u001b[0m\u001b[1;33m\u001b[0m\u001b[0m\n\u001b[0m",
      "\u001b[1;31mZeroDivisionError\u001b[0m: division by zero"
     ]
    }
   ],
   "source": [
    "len(h1_2019_papers_cv.values()) / len(h1_2019_papers.values())"
   ]
  },
  {
   "cell_type": "markdown",
   "metadata": {},
   "source": [
    "Histogram where each bin represents roughly a week."
   ]
  },
  {
   "cell_type": "code",
   "execution_count": 44,
   "metadata": {},
   "outputs": [
    {
     "data": {
      "image/png": "[encoded data removed]",
      "text/plain": [
       "<Figure size 432x288 with 1 Axes>"
      ]
     },
     "metadata": {
      "needs_background": "light"
     },
     "output_type": "display_data"
    }
   ],
   "source": [
    "fig, ax = plt.subplots()\n",
    "ax.hist(h1_2019_papers.values(), bins=14, color='#ff7433')\n",
    "ax.set_title(\"Histogram of publications by date\")\n",
    "fig.autofmt_xdate()\n",
    "ax.fmt_xdata = mdates.DateFormatter(\"%y-%m-%d\")"
   ]
  },
  {
   "cell_type": "markdown",
   "metadata": {},
   "source": [
    "### H2 2019 Results."
   ]
  },
  {
   "cell_type": "code",
   "execution_count": 45,
   "metadata": {},
   "outputs": [
    {
     "data": {
      "text/plain": [
       "10667"
      ]
     },
     "execution_count": 45,
     "metadata": {},
     "output_type": "execute_result"
    }
   ],
   "source": [
    "len(h2_2019_papers.values())"
   ]
  },
  {
   "cell_type": "markdown",
   "metadata": {},
   "source": [
    "Proportion that is computer vision."
   ]
  },
  {
   "cell_type": "code",
   "execution_count": 46,
   "metadata": {},
   "outputs": [
    {
     "data": {
      "text/plain": [
       "0.33580200618730666"
      ]
     },
     "execution_count": 46,
     "metadata": {},
     "output_type": "execute_result"
    }
   ],
   "source": [
    "len(h2_2019_papers_cv.values()) / len(h2_2019_papers.values())"
   ]
  },
  {
   "cell_type": "markdown",
   "metadata": {},
   "source": [
    "Histogram where each bin represents roughly a week."
   ]
  },
  {
   "cell_type": "code",
   "execution_count": 47,
   "metadata": {},
   "outputs": [
    {
     "data": {
      "image/png": "[encoded data removed]",
      "text/plain": [
       "<Figure size 432x288 with 1 Axes>"
      ]
     },
     "metadata": {
      "needs_background": "light"
     },
     "output_type": "display_data"
    }
   ],
   "source": [
    "fig, ax = plt.subplots()\n",
    "ax.hist(h2_2019_papers.values(), bins=14, color='#ff7433')\n",
    "ax.set_title(\"Histogram of publications by date\")\n",
    "fig.autofmt_xdate()\n",
    "ax.fmt_xdata = mdates.DateFormatter(\"%y-%m-%d\")"
   ]
  },
  {
   "cell_type": "markdown",
   "metadata": {},
   "source": [
    "### H1 2020 Results."
   ]
  },
  {
   "cell_type": "markdown",
   "metadata": {},
   "source": [
    "Total"
   ]
  },
  {
   "cell_type": "code",
   "execution_count": 48,
   "metadata": {},
   "outputs": [
    {
     "data": {
      "text/plain": [
       "20806"
      ]
     },
     "execution_count": 48,
     "metadata": {},
     "output_type": "execute_result"
    }
   ],
   "source": [
    "len(h1_2020_papers.values())"
   ]
  },
  {
   "cell_type": "markdown",
   "metadata": {},
   "source": [
    "Proportion that is computer vision."
   ]
  },
  {
   "cell_type": "code",
   "execution_count": 49,
   "metadata": {},
   "outputs": [
    {
     "data": {
      "text/plain": [
       "0.33115447467076803"
      ]
     },
     "execution_count": 49,
     "metadata": {},
     "output_type": "execute_result"
    }
   ],
   "source": [
    "len(h1_2020_papers_cv.values()) / len(h1_2020_papers.values())"
   ]
  },
  {
   "cell_type": "code",
   "execution_count": null,
   "metadata": {},
   "outputs": [],
   "source": []
  }
 ],
 "metadata": {
  "kernelspec": {
   "display_name": "Python 3",
   "language": "python",
   "name": "python3"
  },
  "language_info": {
   "codemirror_mode": {
    "name": "ipython",
    "version": 3
   },
   "file_extension": ".py",
   "mimetype": "text/x-python",
   "name": "python",
   "nbconvert_exporter": "python",
   "pygments_lexer": "ipython3",
   "version": "3.8.5"
  }
 },
 "nbformat": 4,
 "nbformat_minor": 4
}
