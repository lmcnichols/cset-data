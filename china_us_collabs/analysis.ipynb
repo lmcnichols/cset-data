{
 "cells": [
  {
   "cell_type": "code",
   "execution_count": 142,
   "id": "numeric-funds",
   "metadata": {},
   "outputs": [],
   "source": [
    "library(ggplot2)\n",
    "library(scales)\n",
    "options(repr.plot.width=5, repr.plot.height=4)"
   ]
  },
  {
   "cell_type": "code",
   "execution_count": 143,
   "id": "little-maria",
   "metadata": {},
   "outputs": [],
   "source": [
    "data = read.csv(\"cset_data.csv\")"
   ]
  },
  {
   "cell_type": "code",
   "execution_count": 144,
   "id": "streaming-institute",
   "metadata": {},
   "outputs": [],
   "source": [
    "to2020 = data[data$date<=2020,]"
   ]
  },
  {
   "cell_type": "code",
   "execution_count": 145,
   "id": "organic-defendant",
   "metadata": {},
   "outputs": [
    {
     "data": {
      "image/png": "[encoded data removed]",
      "text/plain": [
       "plot without title"
      ]
     },
     "metadata": {},
     "output_type": "display_data"
    }
   ],
   "source": [
    "ggplot(data=to2020, aes(date, total)) + \n",
    "geom_point() + \n",
    "geom_point(aes(date, us_china_collabs))"
   ]
  },
  {
   "cell_type": "markdown",
   "id": "liked-springfield",
   "metadata": {},
   "source": [
    "Assumption made in this model is that the number of US-China collaborations is growing at an exponential rate and the US AI papers which are not collaborations with China are also growing at an exponential rate."
   ]
  },
  {
   "cell_type": "markdown",
   "id": "contrary-colonial",
   "metadata": {},
   "source": [
    "$$\n",
    "\\begin{split}\n",
    "\\text{ quant } & = \\frac{ \\exp ( A \\text{ date } ) }{ \\exp( A \\text{ date } ) + \\exp ( B \\text{ date } )} \\\\\n",
    "& \\Rightarrow \\text{ date }  \\propto \\log \\Big( \\frac{ 1 }{ \\text{quant} } - 1 \\Big) \n",
    "\\end{split}\n",
    "$$"
   ]
  },
  {
   "cell_type": "code",
   "execution_count": 146,
   "id": "shaped-maria",
   "metadata": {},
   "outputs": [
    {
     "data": {
      "text/plain": [
       "\n",
       "Call:\n",
       "lm(formula = log(1/quant - 1) ~ date, data = to2020)\n",
       "\n",
       "Residuals:\n",
       "     Min       1Q   Median       3Q      Max \n",
       "-0.07263 -0.03033 -0.01206  0.02830  0.10065 \n",
       "\n",
       "Coefficients:\n",
       "              Estimate Std. Error t value Pr(>|t|)    \n",
       "(Intercept) 229.930279   9.802691   23.46 2.22e-09 ***\n",
       "date         -0.113031   0.004865  -23.23 2.41e-09 ***\n",
       "---\n",
       "Signif. codes:  0 '***' 0.001 '**' 0.01 '*' 0.05 '.' 0.1 ' ' 1\n",
       "\n",
       "Residual standard error: 0.05102 on 9 degrees of freedom\n",
       "Multiple R-squared:  0.9836,\tAdjusted R-squared:  0.9818 \n",
       "F-statistic: 539.8 on 1 and 9 DF,  p-value: 2.412e-09\n"
      ]
     },
     "metadata": {},
     "output_type": "display_data"
    }
   ],
   "source": [
    "expon.model = lm( log( 1 / quant - 1 ) ~ date, data=to2020 )\n",
    "\n",
    "summary( expon.model )\n",
    "\n",
    "expon.pred = data.frame( date=to2020$date )\n",
    "new.dates = data.frame( date=c(2020, 2021, 2022) )\n",
    "expon.pred = rbind( expon.pred, new.dates )\n",
    "\n",
    "expon.pred$quant = 1 / ( exp( predict( expon.model, newdata=expon.pred ) ) + 1 )\n",
    "\n",
    "expon.pred[c(\"quant\", \"lwr90\", \"upr90\")] = 1 / ( exp( predict( expon.model, newdata=expon.pred, interval = \"prediction\", level = 0.90 ) ) + 1 )\n",
    "expon.pred[c(\"quant\", \"lwr70\", \"upr70\")] = 1 / ( exp( predict( expon.model, newdata=expon.pred, interval = \"prediction\", level = 0.70 ) ) + 1 )\n",
    "expon.pred[c(\"quant\", \"lwr50\", \"upr50\")] = 1 / ( exp( predict( expon.model, newdata=expon.pred, interval = \"prediction\", level = 0.50 ) ) + 1 )"
   ]
  },
  {
   "cell_type": "code",
   "execution_count": 147,
   "id": "ahead-fiber",
   "metadata": {},
   "outputs": [
    {
     "data": {
      "image/png": "[encoded data removed]",
      "text/plain": [
       "plot without title"
      ]
     },
     "metadata": {},
     "output_type": "display_data"
    }
   ],
   "source": [
    "ggplot(data=expon.pred, aes(date, quant)) + \n",
    "geom_line() +\n",
    "geom_ribbon(aes(ymin=lwr90, ymax=upr90), color=\"blue\", alpha=0.2) +\n",
    "geom_ribbon(aes(ymin=lwr70, ymax=upr70), color=\"orange\", alpha=0.2) +\n",
    "geom_ribbon(aes(ymin=lwr50, ymax=upr50), color=\"red\", alpha=0.2) +\n",
    "geom_point(data=to2020, aes(date, quant))"
   ]
  },
  {
   "cell_type": "code",
   "execution_count": 148,
   "id": "spoken-february",
   "metadata": {},
   "outputs": [
    {
     "data": {
      "text/plain": [
       "\n",
       "Call:\n",
       "lm(formula = quant ~ date, data = to2020)\n",
       "\n",
       "Residuals:\n",
       "       Min         1Q     Median         3Q        Max \n",
       "-0.0049185 -0.0021249 -0.0001496  0.0026330  0.0041754 \n",
       "\n",
       "Coefficients:\n",
       "              Estimate Std. Error t value Pr(>|t|)    \n",
       "(Intercept) -2.062e+01  6.446e-01  -31.99 1.40e-10 ***\n",
       "date         1.029e-02  3.199e-04   32.16 1.34e-10 ***\n",
       "---\n",
       "Signif. codes:  0 '***' 0.001 '**' 0.01 '*' 0.05 '.' 0.1 ' ' 1\n",
       "\n",
       "Residual standard error: 0.003355 on 9 degrees of freedom\n",
       "Multiple R-squared:  0.9914,\tAdjusted R-squared:  0.9904 \n",
       "F-statistic:  1034 on 1 and 9 DF,  p-value: 1.337e-10\n"
      ]
     },
     "metadata": {},
     "output_type": "display_data"
    }
   ],
   "source": [
    "lin.model = lm( quant ~ date, data=to2020 )\n",
    "\n",
    "summary( lin.model )\n",
    "\n",
    "lin.pred = data.frame( date=to2020$date )\n",
    "new.dates = data.frame( date=c(2020, 2021, 2022) )\n",
    "lin.pred = rbind( lin.pred, new.dates )\n",
    "\n",
    "lin.pred$quant = predict( lin.model, newdata=lin.pred )\n",
    "lin.pred[c(\"quant\", \"lwr90\", \"upr90\")] = predict( lin.model, newdata=lin.pred, interval = \"prediction\", level = 0.90 )\n",
    "lin.pred[c(\"quant\", \"lwr70\", \"upr70\")] = predict( lin.model, newdata=lin.pred, interval = \"prediction\", level = 0.70 )\n",
    "lin.pred[c(\"quant\", \"lwr50\", \"upr50\")] = predict( lin.model, newdata=lin.pred, interval = \"prediction\", level = 0.50 )"
   ]
  },
  {
   "cell_type": "code",
   "execution_count": 149,
   "id": "worth-forty",
   "metadata": {},
   "outputs": [
    {
     "data": {
      "image/png": "[encoded data removed]",
      "text/plain": [
       "plot without title"
      ]
     },
     "metadata": {},
     "output_type": "display_data"
    }
   ],
   "source": [
    "ggplot(data=lin.pred, aes(date, quant)) + \n",
    "geom_line() +\n",
    "geom_ribbon(aes(ymin=lwr90, ymax=upr90), color=\"blue\", alpha=0.2) +\n",
    "geom_ribbon(aes(ymin=lwr70, ymax=upr70), color=\"orange\", alpha=0.2) +\n",
    "geom_ribbon(aes(ymin=lwr50, ymax=upr50), color=\"red\", alpha=0.2) +\n",
    "geom_point(data=to2020, aes(date, quant))"
   ]
  }
 ],
 "metadata": {
  "kernelspec": {
   "display_name": "R",
   "language": "R",
   "name": "ir"
  },
  "language_info": {
   "codemirror_mode": "r",
   "file_extension": ".r",
   "mimetype": "text/x-r-source",
   "name": "R",
   "pygments_lexer": "r",
   "version": "3.6.1"
  }
 },
 "nbformat": 4,
 "nbformat_minor": 5
}
