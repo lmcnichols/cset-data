{
 "cells": [
  {
   "cell_type": "markdown",
   "id": "drawn-immune",
   "metadata": {},
   "source": [
    "Loading data."
   ]
  },
  {
   "cell_type": "code",
   "execution_count": 1,
   "id": "complicated-palestinian",
   "metadata": {},
   "outputs": [
    {
     "name": "stderr",
     "output_type": "stream",
     "text": [
      "Registered S3 methods overwritten by 'ggplot2':\n",
      "  method         from \n",
      "  [.quosures     rlang\n",
      "  c.quosures     rlang\n",
      "  print.quosures rlang\n"
     ]
    }
   ],
   "source": [
    "library(ggplot2)\n",
    "library(scales)\n",
    "library(tidyr)\n",
    "options(repr.plot.width=5, repr.plot.height=4)\n",
    "data = read.csv(\"cset_data.csv\")"
   ]
  },
  {
   "cell_type": "markdown",
   "id": "governing-jungle",
   "metadata": {},
   "source": [
    "Setting cutoff at 2020 because 2021 data is incomplete."
   ]
  },
  {
   "cell_type": "code",
   "execution_count": 2,
   "id": "wired-certification",
   "metadata": {},
   "outputs": [],
   "source": [
    "to2020 = data[data$date<=2020,]"
   ]
  },
  {
   "cell_type": "markdown",
   "id": "resident-avatar",
   "metadata": {},
   "source": [
    "## Model 1: Basic Linear"
   ]
  },
  {
   "cell_type": "code",
   "execution_count": 3,
   "id": "emotional-notice",
   "metadata": {},
   "outputs": [
    {
     "data": {
      "text/plain": [
       "\n",
       "Call:\n",
       "lm(formula = quant ~ date, data = to2020)\n",
       "\n",
       "Residuals:\n",
       "       Min         1Q     Median         3Q        Max \n",
       "-0.0049185 -0.0021249 -0.0001496  0.0026330  0.0041754 \n",
       "\n",
       "Coefficients:\n",
       "              Estimate Std. Error t value Pr(>|t|)    \n",
       "(Intercept) -2.062e+01  6.446e-01  -31.99 1.40e-10 ***\n",
       "date         1.029e-02  3.199e-04   32.16 1.34e-10 ***\n",
       "---\n",
       "Signif. codes:  0 '***' 0.001 '**' 0.01 '*' 0.05 '.' 0.1 ' ' 1\n",
       "\n",
       "Residual standard error: 0.003355 on 9 degrees of freedom\n",
       "Multiple R-squared:  0.9914,\tAdjusted R-squared:  0.9904 \n",
       "F-statistic:  1034 on 1 and 9 DF,  p-value: 1.337e-10\n"
      ]
     },
     "metadata": {},
     "output_type": "display_data"
    }
   ],
   "source": [
    "lin.model = lm( quant ~ date, data=to2020 )\n",
    "\n",
    "summary( lin.model )\n",
    "\n",
    "lin.pred = data.frame( date=to2020$date )\n",
    "new.dates = data.frame( date=c(2020, 2021, 2022) )\n",
    "lin.pred = rbind( lin.pred, new.dates )\n",
    "\n",
    "lin.pred$quant = predict( lin.model, newdata=lin.pred )\n",
    "lin.pred[c(\"quant\", \"lwr90\", \"upr90\")] = predict( lin.model, newdata=lin.pred, interval = \"prediction\", level = 0.90 )\n",
    "lin.pred[c(\"quant\", \"lwr70\", \"upr70\")] = predict( lin.model, newdata=lin.pred, interval = \"prediction\", level = 0.70 )\n",
    "lin.pred[c(\"quant\", \"lwr50\", \"upr50\")] = predict( lin.model, newdata=lin.pred, interval = \"prediction\", level = 0.50 )"
   ]
  },
  {
   "cell_type": "code",
   "execution_count": 4,
   "id": "weird-switch",
   "metadata": {},
   "outputs": [
    {
     "data": {
      "image/png": "[encoded data removed]",
      "text/plain": [
       "plot without title"
      ]
     },
     "metadata": {},
     "output_type": "display_data"
    }
   ],
   "source": [
    "ggplot(data=lin.pred, aes(date, quant)) + \n",
    "geom_line() +\n",
    "geom_ribbon(aes(ymin=lwr90, ymax=upr90), color=\"blue\", alpha=0.2) +\n",
    "geom_ribbon(aes(ymin=lwr70, ymax=upr70), color=\"orange\", alpha=0.2) +\n",
    "geom_ribbon(aes(ymin=lwr50, ymax=upr50), color=\"red\", alpha=0.2) +\n",
    "geom_point(data=to2020, aes(date, quant))"
   ]
  },
  {
   "cell_type": "markdown",
   "id": "visible-bachelor",
   "metadata": {},
   "source": [
    "## Model 2: Exponential"
   ]
  },
  {
   "cell_type": "markdown",
   "id": "exceptional-european",
   "metadata": {},
   "source": [
    "Assumption made in this model is that the number of US-China collaborations is growing at an exponential rate and the US AI papers which are not collaborations with China are also growing at an exponential rate."
   ]
  },
  {
   "cell_type": "markdown",
   "id": "documented-funds",
   "metadata": {},
   "source": [
    "$$\n",
    "\\begin{split}\n",
    "\\text{ quant } & = \\frac{ \\exp ( A \\text{ date } ) }{ \\exp( A \\text{ date } ) + \\exp ( B \\text{ date } )} \\\\\n",
    "& \\Rightarrow \\text{ date }  \\propto \\log \\Big( \\frac{ 1 }{ \\text{quant} } - 1 \\Big) \n",
    "\\end{split}\n",
    "$$"
   ]
  },
  {
   "cell_type": "code",
   "execution_count": 5,
   "id": "featured-trainer",
   "metadata": {},
   "outputs": [
    {
     "data": {
      "text/plain": [
       "\n",
       "Call:\n",
       "lm(formula = log(1/quant - 1) ~ date, data = to2020)\n",
       "\n",
       "Residuals:\n",
       "     Min       1Q   Median       3Q      Max \n",
       "-0.07263 -0.03033 -0.01206  0.02830  0.10065 \n",
       "\n",
       "Coefficients:\n",
       "              Estimate Std. Error t value Pr(>|t|)    \n",
       "(Intercept) 229.930279   9.802691   23.46 2.22e-09 ***\n",
       "date         -0.113031   0.004865  -23.23 2.41e-09 ***\n",
       "---\n",
       "Signif. codes:  0 '***' 0.001 '**' 0.01 '*' 0.05 '.' 0.1 ' ' 1\n",
       "\n",
       "Residual standard error: 0.05102 on 9 degrees of freedom\n",
       "Multiple R-squared:  0.9836,\tAdjusted R-squared:  0.9818 \n",
       "F-statistic: 539.8 on 1 and 9 DF,  p-value: 2.412e-09\n"
      ]
     },
     "metadata": {},
     "output_type": "display_data"
    }
   ],
   "source": [
    "expon.model = lm( log( 1 / quant - 1 ) ~ date, data=to2020 )\n",
    "\n",
    "summary( expon.model )\n",
    "\n",
    "expon.pred = data.frame( date=to2020$date )\n",
    "new.dates = data.frame( date=c(2020, 2021, 2022) )\n",
    "expon.pred = rbind( expon.pred, new.dates )\n",
    "\n",
    "expon.pred$quant = 1 / ( exp( predict( expon.model, newdata=expon.pred ) ) + 1 )\n",
    "\n",
    "expon.pred[c(\"quant\", \"lwr90\", \"upr90\")] = 1 / ( exp( predict( expon.model, newdata=expon.pred, interval = \"prediction\", level = 0.90 ) ) + 1 )\n",
    "expon.pred[c(\"quant\", \"lwr70\", \"upr70\")] = 1 / ( exp( predict( expon.model, newdata=expon.pred, interval = \"prediction\", level = 0.70 ) ) + 1 )\n",
    "expon.pred[c(\"quant\", \"lwr50\", \"upr50\")] = 1 / ( exp( predict( expon.model, newdata=expon.pred, interval = \"prediction\", level = 0.50 ) ) + 1 )"
   ]
  },
  {
   "cell_type": "code",
   "execution_count": 6,
   "id": "protective-student",
   "metadata": {},
   "outputs": [
    {
     "data": {
      "image/png": "[encoded data removed]",
      "text/plain": [
       "plot without title"
      ]
     },
     "metadata": {},
     "output_type": "display_data"
    }
   ],
   "source": [
    "ggplot(data=expon.pred, aes(date, quant)) + \n",
    "geom_line() +\n",
    "geom_ribbon(aes(ymin=lwr90, ymax=upr90), color=\"blue\", alpha=0.2) +\n",
    "geom_ribbon(aes(ymin=lwr70, ymax=upr70), color=\"orange\", alpha=0.2) +\n",
    "geom_ribbon(aes(ymin=lwr50, ymax=upr50), color=\"red\", alpha=0.2) +\n",
    "geom_point(data=to2020, aes(date, quant))"
   ]
  },
  {
   "cell_type": "markdown",
   "id": "analyzed-change",
   "metadata": {},
   "source": [
    "### Testing asumptions:\n",
    "1. How well is the US-China collaboration count fit by an exponential?"
   ]
  },
  {
   "cell_type": "markdown",
   "id": "scenic-profession",
   "metadata": {},
   "source": [
    "$R^2$."
   ]
  },
  {
   "cell_type": "code",
   "execution_count": 7,
   "id": "colonial-identifier",
   "metadata": {},
   "outputs": [
    {
     "data": {
      "text/html": [
       "0.9925545050998"
      ],
      "text/latex": [
       "0.9925545050998"
      ],
      "text/markdown": [
       "0.9925545050998"
      ],
      "text/plain": [
       "[1] 0.9925545"
      ]
     },
     "metadata": {},
     "output_type": "display_data"
    }
   ],
   "source": [
    "summary( lm( log(us_china_collabs) ~ date, data=to2020 ) )$r.squared"
   ]
  },
  {
   "cell_type": "markdown",
   "id": "underlying-contrast",
   "metadata": {},
   "source": [
    "Plot."
   ]
  },
  {
   "cell_type": "code",
   "execution_count": 8,
   "id": "homeless-undergraduate",
   "metadata": {},
   "outputs": [
    {
     "data": {
      "image/png": "[encoded data removed]",
      "text/plain": [
       "plot without title"
      ]
     },
     "metadata": {},
     "output_type": "display_data"
    }
   ],
   "source": [
    "model.points = data.frame(date=to2020$date)\n",
    "model.points$quant = exp( predict( lm( log(us_china_collabs) ~ date, data=to2020 ) ) )\n",
    "ggplot( data=to2020, aes( date, us_china_collabs ) ) + \n",
    "geom_point() +\n",
    "geom_line(data=model.points, aes(date, quant))"
   ]
  },
  {
   "cell_type": "markdown",
   "id": "changing-tribune",
   "metadata": {},
   "source": [
    "2. How well are the non US-China papers fit by an exponential?"
   ]
  },
  {
   "cell_type": "markdown",
   "id": "prepared-jewel",
   "metadata": {},
   "source": [
    "$R^2$."
   ]
  },
  {
   "cell_type": "code",
   "execution_count": 9,
   "id": "deadly-thomas",
   "metadata": {},
   "outputs": [
    {
     "data": {
      "text/html": [
       "0.930148851102683"
      ],
      "text/latex": [
       "0.930148851102683"
      ],
      "text/markdown": [
       "0.930148851102683"
      ],
      "text/plain": [
       "[1] 0.9301489"
      ]
     },
     "metadata": {},
     "output_type": "display_data"
    }
   ],
   "source": [
    "summary( lm( log(total - us_china_collabs) ~ date, data=to2020 ) )$r.squared"
   ]
  },
  {
   "cell_type": "markdown",
   "id": "reasonable-canon",
   "metadata": {},
   "source": [
    "Plot."
   ]
  },
  {
   "cell_type": "code",
   "execution_count": 10,
   "id": "digital-permit",
   "metadata": {},
   "outputs": [
    {
     "data": {
      "image/png": "[encoded data removed]",
      "text/plain": [
       "plot without title"
      ]
     },
     "metadata": {},
     "output_type": "display_data"
    }
   ],
   "source": [
    "model.points = data.frame(date=to2020$date)\n",
    "model.points$quant = exp( predict( lm( log(total - us_china_collabs) ~ date, data=to2020 ) ) )\n",
    "ggplot( data=to2020, aes( date, total - us_china_collabs ) ) + \n",
    "geom_point() +\n",
    "geom_line(data=model.points, aes(date, quant))"
   ]
  }
 ],
 "metadata": {
  "kernelspec": {
   "display_name": "R",
   "language": "R",
   "name": "ir"
  },
  "language_info": {
   "codemirror_mode": "r",
   "file_extension": ".r",
   "mimetype": "text/x-r-source",
   "name": "R",
   "pygments_lexer": "r",
   "version": "3.6.1"
  }
 },
 "nbformat": 4,
 "nbformat_minor": 5
}
