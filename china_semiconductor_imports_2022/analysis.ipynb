{
 "cells": [
  {
   "cell_type": "code",
   "execution_count": null,
   "id": "responsible-copying",
   "metadata": {},
   "outputs": [],
   "source": [
    "library(ggplot2)\n",
    "library(scales)\n",
    "options(repr.plot.height=5)"
   ]
  },
  {
   "cell_type": "code",
   "execution_count": null,
   "id": "brown-quarterly",
   "metadata": {
    "tags": []
   },
   "outputs": [],
   "source": [
    "df = read.csv('clean.csv')"
   ]
  },
  {
   "cell_type": "code",
   "execution_count": null,
   "id": "thirty-flight",
   "metadata": {},
   "outputs": [],
   "source": [
    "library(segmented)\n",
    "\n",
    "normal.lm = lm(log(Value) ~ Year, data=df)\n",
    "\n",
    "segmented.lm = segmented(normal.lm, data=df)\n",
    "\n",
    "predicted = exp(predict(segmented.lm, newdata=data.frame(Year=df$Year)))"
   ]
  },
  {
   "cell_type": "code",
   "execution_count": null,
   "id": "figured-uruguay",
   "metadata": {},
   "outputs": [],
   "source": [
    "ggplot(df, aes(Year, Value)) + geom_point() + geom_line(aes(Year, predicted), color=\"orange\") +\n",
    "scale_y_continuous(labels= unit_format(unit=\"B\", scale=1e-9))\n",
    "ggsave(\"graph.png\")"
   ]
  },
  {
   "cell_type": "code",
   "execution_count": null,
   "id": "assumed-separation",
   "metadata": {},
   "outputs": [],
   "source": [
    "predicted.2022 = exp(predict(segmented.lm, newdata=data.frame(Year=2022)))"
   ]
  },
  {
   "cell_type": "code",
   "execution_count": null,
   "id": "oriented-coast",
   "metadata": {},
   "outputs": [],
   "source": [
    "predicted.2022 * 1e-9"
   ]
  },
  {
   "cell_type": "code",
   "execution_count": 7,
   "id": "adapted-weekly",
   "metadata": {},
   "outputs": [
    {
     "data": {
      "text/plain": [
       "\n",
       "\t***Regression Model with Segmented Relationship(s)***\n",
       "\n",
       "Call: \n",
       "segmented.lm(obj = normal.lm, data = df)\n",
       "\n",
       "Estimated Break-Point(s):\n",
       "               Est. St.Err\n",
       "psi1.Year 2006.118    0.3\n",
       "\n",
       "Meaningful coefficients of the linear terms:\n",
       "              Estimate Std. Error t value Pr(>|t|)    \n",
       "(Intercept) -6.901e+02  1.327e+01  -52.00   <2e-16 ***\n",
       "Year         3.567e-01  6.638e-03   53.73   <2e-16 ***\n",
       "U1.Year     -2.767e-01  9.915e-03  -27.91       NA    \n",
       "---\n",
       "Signif. codes:  0 '***' 0.001 '**' 0.01 '*' 0.05 '.' 0.1 ' ' 1\n",
       "\n",
       "Residual standard error: 0.1111 on 25 degrees of freedom\n",
       "Multiple R-Squared: 0.9972,  Adjusted R-squared: 0.9968 \n",
       "\n",
       "Convergence attained in 4 iter. (rel. change 8.2763e-14)"
      ]
     },
     "metadata": {},
     "output_type": "display_data"
    }
   ],
   "source": [
    "summary(segmented.lm)"
   ]
  }
 ],
 "metadata": {
  "kernelspec": {
   "display_name": "R",
   "language": "R",
   "name": "ir"
  },
  "language_info": {
   "codemirror_mode": "r",
   "file_extension": ".r",
   "mimetype": "text/x-r-source",
   "name": "R",
   "pygments_lexer": "r",
   "version": "3.6.1"
  }
 },
 "nbformat": 4,
 "nbformat_minor": 5
}
