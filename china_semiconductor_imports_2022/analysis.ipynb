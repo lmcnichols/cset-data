{
 "cells": [
  {
   "cell_type": "code",
   "execution_count": 1,
   "id": "settled-rainbow",
   "metadata": {},
   "outputs": [
    {
     "name": "stderr",
     "output_type": "stream",
     "text": [
      "Registered S3 methods overwritten by 'ggplot2':\n",
      "  method         from \n",
      "  [.quosures     rlang\n",
      "  c.quosures     rlang\n",
      "  print.quosures rlang\n"
     ]
    }
   ],
   "source": [
    "library(ggplot2)\n",
    "library(scales)\n",
    "library(segmented)\n",
    "options(repr.plot.height=5)"
   ]
  },
  {
   "cell_type": "code",
   "execution_count": 2,
   "id": "accurate-merit",
   "metadata": {
    "tags": []
   },
   "outputs": [],
   "source": [
    "df = read.csv('clean.csv')"
   ]
  },
  {
   "cell_type": "markdown",
   "id": "british-proof",
   "metadata": {},
   "source": [
    "Fit a segmented exponential model."
   ]
  },
  {
   "cell_type": "code",
   "execution_count": 3,
   "id": "under-tumor",
   "metadata": {},
   "outputs": [],
   "source": [
    "normal.model = lm(log(quant) ~ date, data=df)\n",
    "segmented.model = segmented(normal.model, data=df)"
   ]
  },
  {
   "cell_type": "markdown",
   "id": "gorgeous-consideration",
   "metadata": {},
   "source": [
    "Add the prediction intervals."
   ]
  },
  {
   "cell_type": "code",
   "execution_count": 4,
   "id": "encouraging-shower",
   "metadata": {},
   "outputs": [],
   "source": [
    "pred = data.frame(date=df$date);\n",
    "pred2022 = data.frame(date=2022);\n",
    "pred = rbind(pred, pred2022);"
   ]
  },
  {
   "cell_type": "code",
   "execution_count": 5,
   "id": "greenhouse-starter",
   "metadata": {},
   "outputs": [],
   "source": [
    "pred[,c(\"quant\", \"lwr90\", \"upr90\")] = apply(\n",
    "    predict(\n",
    "    segmented.model, \n",
    "    newdata=pred, \n",
    "    interval=\"prediction\", \n",
    "    level=0.90\n",
    "), 2, exp);"
   ]
  },
  {
   "cell_type": "code",
   "execution_count": 6,
   "id": "interesting-aside",
   "metadata": {},
   "outputs": [],
   "source": [
    "pred[,c(\"quant\", \"lwr70\", \"upr70\")] = apply(predict(\n",
    "    segmented.model, \n",
    "    newdata=pred, \n",
    "    interval=\"prediction\", \n",
    "    level=0.70\n",
    "), 2, exp);"
   ]
  },
  {
   "cell_type": "code",
   "execution_count": 7,
   "id": "promotional-formation",
   "metadata": {},
   "outputs": [],
   "source": [
    "pred[,c(\"quant\", \"lwr50\", \"upr50\")] = apply(predict(\n",
    "    segmented.model, \n",
    "    newdata=pred, \n",
    "    interval=\"prediction\", \n",
    "    level=0.50\n",
    "), 2, exp);"
   ]
  },
  {
   "cell_type": "code",
   "execution_count": 8,
   "id": "applied-moisture",
   "metadata": {},
   "outputs": [],
   "source": [
    "pred[,c(\"quant\", \"lwr20\", \"upr20\")] = apply(predict(\n",
    "    segmented.model, \n",
    "    newdata=pred, \n",
    "    interval=\"prediction\", \n",
    "    level=0.20\n",
    "), 2, exp);"
   ]
  },
  {
   "cell_type": "code",
   "execution_count": 9,
   "id": "worth-electronics",
   "metadata": {},
   "outputs": [
    {
     "data": {
      "image/png": "[encoded data removed]",
      "text/plain": [
       "plot without title"
      ]
     },
     "metadata": {},
     "output_type": "display_data"
    }
   ],
   "source": [
    "ggplot(df, aes(date, quant)) +\n",
    "geom_point() +\n",
    "geom_line(data=pred, aes(date, quant), color=\"red\") +\n",
    "geom_ribbon(data=pred, aes(ymin=lwr90, ymax=upr90), color=\"yellow\", alpha=0.1) +\n",
    "geom_ribbon(data=pred, aes(ymin=lwr70, ymax=upr70), color=\"orange\", alpha=0.1) +\n",
    "geom_ribbon(data=pred, aes(ymin=lwr50, ymax=upr50), color=\"red\", alpha=0.1) +\n",
    "geom_ribbon(data=pred, aes(ymin=lwr20, ymax=upr20), color=\"purple\", alpha=0.1) +\n",
    "scale_y_continuous(labels= unit_format(unit=\"B\", scale=1e-9), breaks=c(3.2e11, 3.5e11, 3.8e11, 4.1e11))\n",
    "ggsave(\"graph.png\", width=4, height=2)"
   ]
  },
  {
   "cell_type": "code",
   "execution_count": 10,
   "id": "arranged-trustee",
   "metadata": {},
   "outputs": [
    {
     "data": {
      "text/plain": [
       "\n",
       "\t***Regression Model with Segmented Relationship(s)***\n",
       "\n",
       "Call: \n",
       "segmented.lm(obj = normal.model, data = df)\n",
       "\n",
       "Estimated Break-Point(s):\n",
       "               Est. St.Err\n",
       "psi1.date 2006.118    0.3\n",
       "\n",
       "Meaningful coefficients of the linear terms:\n",
       "              Estimate Std. Error t value Pr(>|t|)    \n",
       "(Intercept) -6.901e+02  1.327e+01  -52.00   <2e-16 ***\n",
       "date         3.567e-01  6.638e-03   53.73   <2e-16 ***\n",
       "U1.date     -2.767e-01  9.915e-03  -27.91       NA    \n",
       "---\n",
       "Signif. codes:  0 '***' 0.001 '**' 0.01 '*' 0.05 '.' 0.1 ' ' 1\n",
       "\n",
       "Residual standard error: 0.1111 on 25 degrees of freedom\n",
       "Multiple R-Squared: 0.9972,  Adjusted R-squared: 0.9968 \n",
       "\n",
       "Convergence attained in 4 iter. (rel. change 0)"
      ]
     },
     "metadata": {},
     "output_type": "display_data"
    }
   ],
   "source": [
    "summary(segmented.model)"
   ]
  }
 ],
 "metadata": {
  "kernelspec": {
   "display_name": "R",
   "language": "R",
   "name": "ir"
  },
  "language_info": {
   "codemirror_mode": "r",
   "file_extension": ".r",
   "mimetype": "text/x-r-source",
   "name": "R",
   "pygments_lexer": "r",
   "version": "3.6.1"
  }
 },
 "nbformat": 4,
 "nbformat_minor": 5
}
