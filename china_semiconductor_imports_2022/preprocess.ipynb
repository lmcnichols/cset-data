{
 "cells": [
  {
   "cell_type": "code",
   "execution_count": 2,
   "id": "present-removal",
   "metadata": {},
   "outputs": [],
   "source": [
    "import pandas as pd"
   ]
  },
  {
   "cell_type": "code",
   "execution_count": 3,
   "id": "wrong-israel",
   "metadata": {},
   "outputs": [],
   "source": [
    "(\n",
    "    pd.read_csv(\"china_imports_world.csv\")\n",
    "    .rename(columns={\"Trade Value (US$)\": \"Value\"})\n",
    "    .loc[:, [\"Year\", \"Value\"]]\n",
    "    .set_index(\"Year\")\n",
    "    .to_csv(\"clean.csv\")\n",
    ")"
   ]
  }
 ],
 "metadata": {
  "kernelspec": {
   "display_name": "Python 3",
   "language": "python",
   "name": "python3"
  },
  "language_info": {
   "codemirror_mode": {
    "name": "ipython",
    "version": 3
   },
   "file_extension": ".py",
   "mimetype": "text/x-python",
   "name": "python",
   "nbconvert_exporter": "python",
   "pygments_lexer": "ipython3",
   "version": "3.9.2"
  }
 },
 "nbformat": 4,
 "nbformat_minor": 5
}
