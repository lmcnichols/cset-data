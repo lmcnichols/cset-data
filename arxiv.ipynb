{
 "cells": [
  {
   "cell_type": "code",
   "execution_count": 16,
   "metadata": {},
   "outputs": [],
   "source": [
    "import arxiv\n",
    "from datetime import date, datetime\n",
    "import datetime as dt\n",
    "import re\n",
    "import time"
   ]
  },
  {
   "cell_type": "code",
   "execution_count": 2,
   "metadata": {},
   "outputs": [],
   "source": [
    "import matplotlib.pyplot as plt\n",
    "import matplotlib.dates as mdates\n",
    "from datetime import date\n",
    "import datetime as dt"
   ]
  },
  {
   "cell_type": "code",
   "execution_count": 3,
   "metadata": {},
   "outputs": [],
   "source": [
    "year = 2020"
   ]
  },
  {
   "cell_type": "markdown",
   "metadata": {},
   "source": [
    "#### Define the quarter periods"
   ]
  },
  {
   "cell_type": "code",
   "execution_count": 4,
   "metadata": {},
   "outputs": [],
   "source": [
    "\n",
    "Q1 = {\n",
    "    'start': dt.date(day=1, month=1, year=year),\n",
    "    'end': dt.date(day=31, month=3, year=year)\n",
    "}\n",
    "Q2 = {\n",
    "    'start': dt.date(day=1, month=4, year=year),\n",
    "    'end': dt.date(day=30, month=6, year=year)\n",
    "}\n",
    "Q3 = {\n",
    "    'start': dt.date(day=1, month=7, year=year),\n",
    "    'end': dt.date(day=30, month=9, year=year)\n",
    "}\n",
    "Q4 = {\n",
    "    'start': dt.date(day=1, month=10, year=year),\n",
    "    'end': dt.date(day=31, month=12, year=year)\n",
    "}"
   ]
  },
  {
   "cell_type": "markdown",
   "metadata": {},
   "source": [
    "#### Set up lists to hold the id's for the papers and the dates"
   ]
  },
  {
   "cell_type": "code",
   "execution_count": 5,
   "metadata": {},
   "outputs": [],
   "source": [
    "q1_papers = []\n",
    "q2_papers = []\n",
    "q3_papers = []\n",
    "q4_papers = []\n",
    "date_list = []"
   ]
  },
  {
   "cell_type": "markdown",
   "metadata": {},
   "source": [
    "### Fetch the results for the different categories"
   ]
  },
  {
   "cell_type": "code",
   "execution_count": 6,
   "metadata": {},
   "outputs": [],
   "source": [
    "def make_query(start):\n",
    "    return(\n",
    "    arxiv.query(\n",
    "        query = 'cs.ai OR cs.cv OR cs.cl OR cs.lg OR cs.ro',\n",
    "        start=start,\n",
    "        max_results = None,\n",
    "        max_chunk_results=3000,\n",
    "        sort_by = 'submittedDate',\n",
    "        sort_order = 'descending',\n",
    "        iterative=True\n",
    "    )\n",
    ")"
   ]
  },
  {
   "cell_type": "markdown",
   "metadata": {},
   "source": [
    "#### Iterate through the results."
   ]
  },
  {
   "cell_type": "code",
   "execution_count": 7,
   "metadata": {},
   "outputs": [
    {
     "name": "stdout",
     "output_type": "stream",
     "text": [
      "Parsed through  3000\n",
      "On date  2020-08-04\n",
      "Pausing for 3 seconds, Arxive needs a breather apparently.\n",
      "Parsed through  6000\n",
      "On date  2020-07-11\n",
      "Parsed through  9000\n",
      "On date  2020-06-19\n",
      "Parsed through  12000\n",
      "On date  2020-06-01\n",
      "Parsed through  15000\n",
      "On date  2020-05-06\n",
      "Pausing for 8 seconds, Arxive needs a breather apparently.\n",
      "Pausing for 13 seconds, Arxive needs a breather apparently.\n",
      "Parsed through  18000\n",
      "On date  2020-04-11\n",
      "Parsed through  21000\n",
      "On date  2020-03-16\n",
      "Parsed through  24000\n",
      "On date  2020-02-19\n",
      "Pausing for 18 seconds, Arxive needs a breather apparently.\n",
      "Parsed through  27000\n",
      "On date  2020-01-19\n",
      "Pausing for 23 seconds, Arxive needs a breather apparently.\n",
      "Pausing for 28 seconds, Arxive needs a breather apparently.\n",
      "breaking\n",
      "Pausing for 33 seconds, Arxive needs a breather apparently.\n"
     ]
    }
   ],
   "source": [
    "sleep_time = 3\n",
    "inyear = True\n",
    "i = 0\n",
    "while inyear:\n",
    "    # Fetch a batch starting where we left off.\n",
    "    results = make_query(i)\n",
    "    \n",
    "    for result in results():\n",
    "        # Parse out the date.\n",
    "        raw_date = result['published']\n",
    "        date_match = re.search('\\D*(\\d+-\\d+-\\d+).*', raw_date)\n",
    "        clean_date = date_match.group(1)\n",
    "        date_obj = datetime.strptime(clean_date, '%Y-%m-%d').date()\n",
    "        # Add the date to the date list.\n",
    "        date_list.append(date_obj)\n",
    "\n",
    "        # Bail if the date is before year\n",
    "        if date < Q1['start']:\n",
    "            print('breaking')\n",
    "            inyear = False\n",
    "            break\n",
    "\n",
    "        # See which quarter we are in.\n",
    "        if Q1['start'] <= date <= Q1['end']:\n",
    "            q1_papers.append(result['id'])\n",
    "        elif Q2['start'] <= date <= Q2['end']:\n",
    "            q2_papers.append(result['id'])\n",
    "        elif Q3['start'] <= date <= Q3['end']:\n",
    "            q3_papers.append(result['id'])\n",
    "        else:\n",
    "            q4_papers.append(result['id'])\n",
    "        \n",
    "        # Increment the counter to the next result.\n",
    "        i += 1\n",
    "        \n",
    "        # Let the user know our progress.\n",
    "        if i%3000 == 0:\n",
    "            print('Parsed through ', str(i))\n",
    "            print('On date ', date)\n",
    "    \n",
    "    # Message that we are pausing.\n",
    "    print('Pausing for ' + str(sleep_time) + ' seconds, Arxive needs a breather apparently.')\n",
    "    time.sleep(sleep_time)\n",
    "    sleep_time += 5"
   ]
  },
  {
   "cell_type": "code",
   "execution_count": 8,
   "metadata": {},
   "outputs": [
    {
     "data": {
      "text/plain": [
       "9025"
      ]
     },
     "execution_count": 8,
     "metadata": {},
     "output_type": "execute_result"
    }
   ],
   "source": [
    "len(q1_papers)"
   ]
  },
  {
   "cell_type": "code",
   "execution_count": 9,
   "metadata": {},
   "outputs": [
    {
     "data": {
      "text/plain": [
       "11777"
      ]
     },
     "execution_count": 9,
     "metadata": {},
     "output_type": "execute_result"
    }
   ],
   "source": [
    "len(q2_papers)"
   ]
  },
  {
   "cell_type": "code",
   "execution_count": 10,
   "metadata": {},
   "outputs": [
    {
     "data": {
      "text/plain": [
       "7491"
      ]
     },
     "execution_count": 10,
     "metadata": {},
     "output_type": "execute_result"
    }
   ],
   "source": [
    "len(q3_papers)"
   ]
  },
  {
   "cell_type": "code",
   "execution_count": 11,
   "metadata": {},
   "outputs": [
    {
     "data": {
      "text/plain": [
       "0"
      ]
     },
     "execution_count": 11,
     "metadata": {},
     "output_type": "execute_result"
    }
   ],
   "source": [
    "len(q4_papers)"
   ]
  },
  {
   "cell_type": "code",
   "execution_count": 12,
   "metadata": {},
   "outputs": [
    {
     "data": {
      "image/png": "[encoded data removed]",
      "text/plain": [
       "<Figure size 432x288 with 1 Axes>"
      ]
     },
     "metadata": {
      "needs_background": "light"
     },
     "output_type": "display_data"
    }
   ],
   "source": [
    "fig, ax = plt.subplots()\n",
    "ax.hist(date_list, bins=100)\n",
    "\n",
    "# rotate and align the tick labels so they look better\n",
    "fig.autofmt_xdate()\n",
    "ax.fmt_xdata = mdates.DateFormatter('%Y-%m-%d')"
   ]
  }
 ],
 "metadata": {
  "kernelspec": {
   "display_name": "Python 3",
   "language": "python",
   "name": "python3"
  },
  "language_info": {
   "codemirror_mode": {
    "name": "ipython",
    "version": 3
   },
   "file_extension": ".py",
   "mimetype": "text/x-python",
   "name": "python",
   "nbconvert_exporter": "python",
   "pygments_lexer": "ipython3",
   "version": "3.8.5"
  }
 },
 "nbformat": 4,
 "nbformat_minor": 4
}
