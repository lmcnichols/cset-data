{
 "cells": [
  {
   "cell_type": "code",
   "execution_count": 1,
   "metadata": {},
   "outputs": [],
   "source": [
    "import arxiv\n",
    "from datetime import date, datetime\n",
    "import re\n",
    "import time"
   ]
  },
  {
   "cell_type": "code",
   "execution_count": 2,
   "metadata": {},
   "outputs": [],
   "source": [
    "import matplotlib.pyplot as plt\n",
    "import matplotlib.dates as mdates\n",
    "from datetime import date\n",
    "import datetime as dt"
   ]
  },
  {
   "cell_type": "markdown",
   "metadata": {},
   "source": [
    "#### Define the quarter periods"
   ]
  },
  {
   "cell_type": "code",
   "execution_count": 3,
   "metadata": {},
   "outputs": [],
   "source": [
    "Q1 = {\n",
    "    'start': date(day=1, month=1, year=2020),\n",
    "    'end': date(day=31, month=3, year=2020)\n",
    "}\n",
    "Q2 = {\n",
    "    'start': date(day=1, month=4, year=2020),\n",
    "    'end': date(day=30, month=6, year=2020)\n",
    "}"
   ]
  },
  {
   "cell_type": "markdown",
   "metadata": {},
   "source": [
    "#### Set up lists to hold the id's for the papers and the dates"
   ]
  },
  {
   "cell_type": "code",
   "execution_count": 4,
   "metadata": {},
   "outputs": [],
   "source": [
    "q1_papers = []\n",
    "q2_papers = []\n",
    "q3_papers = []\n",
    "dates = []"
   ]
  },
  {
   "cell_type": "markdown",
   "metadata": {},
   "source": [
    "### Fetch the results for the different categories"
   ]
  },
  {
   "cell_type": "code",
   "execution_count": 5,
   "metadata": {},
   "outputs": [],
   "source": [
    "def make_query(start):\n",
    "    return(\n",
    "    arxiv.query(\n",
    "        query = 'cs.ai OR cs.cv OR cs.cl OR cs.lg OR cs.ro',\n",
    "        start=start,\n",
    "        max_results = None,\n",
    "        max_chunk_results=3000,\n",
    "        sort_by = 'submittedDate',\n",
    "        sort_order = 'descending',\n",
    "        iterative=True\n",
    "    )\n",
    ")"
   ]
  },
  {
   "cell_type": "markdown",
   "metadata": {},
   "source": [
    "#### Iterate through the results."
   ]
  },
  {
   "cell_type": "code",
   "execution_count": 6,
   "metadata": {},
   "outputs": [
    {
     "ename": "AttributeError",
     "evalue": "type object 'datetime.date' has no attribute 'strptime'",
     "output_type": "error",
     "traceback": [
      "\u001b[1;31m---------------------------------------------------------------------------\u001b[0m",
      "\u001b[1;31mAttributeError\u001b[0m                            Traceback (most recent call last)",
      "\u001b[1;32m<ipython-input-6-70b2d9a292ee>\u001b[0m in \u001b[0;36m<module>\u001b[1;34m\u001b[0m\n\u001b[0;32m     11\u001b[0m         \u001b[0mdate_match\u001b[0m \u001b[1;33m=\u001b[0m \u001b[0mre\u001b[0m\u001b[1;33m.\u001b[0m\u001b[0msearch\u001b[0m\u001b[1;33m(\u001b[0m\u001b[1;34m'\\D*(\\d+-\\d+-\\d+).*'\u001b[0m\u001b[1;33m,\u001b[0m \u001b[0mraw_date\u001b[0m\u001b[1;33m)\u001b[0m\u001b[1;33m\u001b[0m\u001b[1;33m\u001b[0m\u001b[0m\n\u001b[0;32m     12\u001b[0m         \u001b[0mclean_date\u001b[0m \u001b[1;33m=\u001b[0m \u001b[0mdate_match\u001b[0m\u001b[1;33m.\u001b[0m\u001b[0mgroup\u001b[0m\u001b[1;33m(\u001b[0m\u001b[1;36m1\u001b[0m\u001b[1;33m)\u001b[0m\u001b[1;33m\u001b[0m\u001b[1;33m\u001b[0m\u001b[0m\n\u001b[1;32m---> 13\u001b[1;33m         \u001b[0mdate\u001b[0m \u001b[1;33m=\u001b[0m \u001b[0mdate\u001b[0m\u001b[1;33m.\u001b[0m\u001b[0mstrptime\u001b[0m\u001b[1;33m(\u001b[0m\u001b[0mclean_date\u001b[0m\u001b[1;33m,\u001b[0m \u001b[1;34m'%Y-%m-%d'\u001b[0m\u001b[1;33m)\u001b[0m\u001b[1;33m\u001b[0m\u001b[1;33m\u001b[0m\u001b[0m\n\u001b[0m\u001b[0;32m     14\u001b[0m \u001b[1;33m\u001b[0m\u001b[0m\n\u001b[0;32m     15\u001b[0m         \u001b[1;31m# Add the date to the date list.\u001b[0m\u001b[1;33m\u001b[0m\u001b[1;33m\u001b[0m\u001b[1;33m\u001b[0m\u001b[0m\n",
      "\u001b[1;31mAttributeError\u001b[0m: type object 'datetime.date' has no attribute 'strptime'"
     ]
    }
   ],
   "source": [
    "sleep_time = 3\n",
    "in2020 = True\n",
    "i = 0\n",
    "while in2020:\n",
    "    # Fetch a batch starting where we left off.\n",
    "    results = make_query(i)\n",
    "    \n",
    "    for result in results():\n",
    "        # Parse out the date.\n",
    "        raw_date = result['published']\n",
    "        date_match = re.search('\\D*(\\d+-\\d+-\\d+).*', raw_date)\n",
    "        clean_date = date_match.group(1)\n",
    "        date = datetime.strptime(clean_date, '%Y-%m-%d').date()\n",
    "        # Add the date to the date list.\n",
    "        date_list.append(date)\n",
    "\n",
    "        # Bail if the date is before 2020\n",
    "        if date < Q1['start']:\n",
    "            print('breaking')\n",
    "            in2020 = False\n",
    "            break\n",
    "\n",
    "        # See which quarter we are in.\n",
    "        if Q1['start'] <= date <= Q1['end']:\n",
    "            q1_papers.append(result['id'])\n",
    "        elif Q2['start'] <= date <= Q2['end']:\n",
    "            q2_papers.append(result['id'])\n",
    "        else:\n",
    "            q3_papers.append(result['id'])\n",
    "        \n",
    "        # Increment the counter to the next result.\n",
    "        i += 1\n",
    "        \n",
    "        # Let the user know our progress.\n",
    "        if i%3000 == 0:\n",
    "            print('Parsed through ', str(i))\n",
    "            print('On date ', date)\n",
    "    \n",
    "    # Message that we are pausing.\n",
    "    print('Pausing for ' + str(sleep_time) + ' seconds, Arxive needs a breather apparently.')\n",
    "    time.sleep(sleep_time)\n",
    "    sleep_time += 5"
   ]
  },
  {
   "cell_type": "code",
   "execution_count": null,
   "metadata": {},
   "outputs": [],
   "source": [
    "len(q1_papers)"
   ]
  },
  {
   "cell_type": "code",
   "execution_count": null,
   "metadata": {},
   "outputs": [],
   "source": [
    "len(q2_papers)"
   ]
  },
  {
   "cell_type": "code",
   "execution_count": null,
   "metadata": {},
   "outputs": [],
   "source": [
    "len(q3_papers)"
   ]
  },
  {
   "cell_type": "code",
   "execution_count": null,
   "metadata": {},
   "outputs": [],
   "source": [
    "fig, ax = plt.subplots()\n",
    "ax.hist(date_list, bins=100)\n",
    "\n",
    "# rotate and align the tick labels so they look better\n",
    "fig.autofmt_xdate()\n",
    "ax.fmt_xdata = mdates.DateFormatter('%Y-%m-%d')"
   ]
  },
  {
   "cell_type": "code",
   "execution_count": null,
   "metadata": {},
   "outputs": [],
   "source": []
  }
 ],
 "metadata": {
  "kernelspec": {
   "display_name": "Python 3",
   "language": "python",
   "name": "python3"
  },
  "language_info": {
   "codemirror_mode": {
    "name": "ipython",
    "version": 3
   },
   "file_extension": ".py",
   "mimetype": "text/x-python",
   "name": "python",
   "nbconvert_exporter": "python",
   "pygments_lexer": "ipython3",
   "version": "3.8.5"
  }
 },
 "nbformat": 4,
 "nbformat_minor": 4
}
